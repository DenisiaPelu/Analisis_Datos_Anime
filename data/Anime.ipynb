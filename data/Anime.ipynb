{
 "cells": [
  {
   "cell_type": "markdown",
   "metadata": {},
   "source": [
    "# EDA : ANÁLISIS DE ÁNIME"
   ]
  },
  {
   "cell_type": "markdown",
   "metadata": {},
   "source": [
    "![man_1](./man_1.jpg)"
   ]
  },
  {
   "cell_type": "markdown",
   "metadata": {},
   "source": [
    "### 1. Introducción"
   ]
  },
  {
   "cell_type": "markdown",
   "metadata": {},
   "source": [
    "- Este análisis se centra en el estudio de registros de ánimes, segun su genero y su rating.\n",
    "- Exploraremos qué géneros y tipos destacan más según los usuarios y analizaremos las fechas de lanzamiento para identificar si los animes más destacados tienden a estrenarse en verano, otoño o invierno.\n"
   ]
  },
  {
   "cell_type": "markdown",
   "metadata": {},
   "source": [
    "### 2. Librerías"
   ]
  },
  {
   "cell_type": "code",
   "execution_count": 1,
   "metadata": {},
   "outputs": [],
   "source": [
    "import numpy as np\n",
    "import pandas as pd\n",
    "import matplotlib.pyplot as plt\n",
    "import seaborn as sns\n",
    "import scipy.stats as stats\n",
    "import unicodedata\n",
    "import re\n",
    "pd.set_option('display.max.column',None)"
   ]
  },
  {
   "cell_type": "markdown",
   "metadata": {},
   "source": [
    "### 3. Carga de datos"
   ]
  },
  {
   "cell_type": "code",
   "execution_count": 2,
   "metadata": {},
   "outputs": [],
   "source": [
    "df_1 = pd.read_csv(r'C:\\Users\\denis\\Desktop\\Curso\\EDA\\EDA_Anime\\anime.csv', encoding='latin1', sep=\",\", quotechar='\"', engine='python')"
   ]
  },
  {
   "cell_type": "code",
   "execution_count": 3,
   "metadata": {},
   "outputs": [],
   "source": [
    "df_2=pd.read_csv(r'C:\\Users\\denis\\Desktop\\Curso\\EDA\\EDA_Anime\\MAL-anime.csv ', encoding='latin1', index_col=0)"
   ]
  },
  {
   "cell_type": "markdown",
   "metadata": {},
   "source": [
    "### 4. Análisis exploratorio de datos (EDA)"
   ]
  },
  {
   "cell_type": "markdown",
   "metadata": {},
   "source": [
    "**4.1.Primera visualización del DataFrame (EDA)**"
   ]
  },
  {
   "cell_type": "code",
   "execution_count": 4,
   "metadata": {},
   "outputs": [
    {
     "data": {
      "text/html": [
       "<div>\n",
       "<style scoped>\n",
       "    .dataframe tbody tr th:only-of-type {\n",
       "        vertical-align: middle;\n",
       "    }\n",
       "\n",
       "    .dataframe tbody tr th {\n",
       "        vertical-align: top;\n",
       "    }\n",
       "\n",
       "    .dataframe thead th {\n",
       "        text-align: right;\n",
       "    }\n",
       "</style>\n",
       "<table border=\"1\" class=\"dataframe\">\n",
       "  <thead>\n",
       "    <tr style=\"text-align: right;\">\n",
       "      <th></th>\n",
       "      <th>anime_id</th>\n",
       "      <th>name</th>\n",
       "      <th>genre</th>\n",
       "      <th>type</th>\n",
       "      <th>episodes</th>\n",
       "      <th>rating</th>\n",
       "      <th>members</th>\n",
       "    </tr>\n",
       "  </thead>\n",
       "  <tbody>\n",
       "    <tr>\n",
       "      <th>0</th>\n",
       "      <td>32281</td>\n",
       "      <td>Kimi no Na wa.</td>\n",
       "      <td>Drama, Romance, School, Supernatural</td>\n",
       "      <td>Movie</td>\n",
       "      <td>1</td>\n",
       "      <td>9.37</td>\n",
       "      <td>200630</td>\n",
       "    </tr>\n",
       "    <tr>\n",
       "      <th>1</th>\n",
       "      <td>5114</td>\n",
       "      <td>Fullmetal Alchemist: Brotherhood</td>\n",
       "      <td>Action, Adventure, Drama, Fantasy, Magic, Mili...</td>\n",
       "      <td>TV</td>\n",
       "      <td>64</td>\n",
       "      <td>9.26</td>\n",
       "      <td>793665</td>\n",
       "    </tr>\n",
       "    <tr>\n",
       "      <th>2</th>\n",
       "      <td>28977</td>\n",
       "      <td>GintamaÂ°</td>\n",
       "      <td>Action, Comedy, Historical, Parody, Samurai, S...</td>\n",
       "      <td>TV</td>\n",
       "      <td>51</td>\n",
       "      <td>9.25</td>\n",
       "      <td>114262</td>\n",
       "    </tr>\n",
       "    <tr>\n",
       "      <th>3</th>\n",
       "      <td>9253</td>\n",
       "      <td>Steins;Gate</td>\n",
       "      <td>Sci-Fi, Thriller</td>\n",
       "      <td>TV</td>\n",
       "      <td>24</td>\n",
       "      <td>9.17</td>\n",
       "      <td>673572</td>\n",
       "    </tr>\n",
       "    <tr>\n",
       "      <th>4</th>\n",
       "      <td>9969</td>\n",
       "      <td>Gintama&amp;#039;</td>\n",
       "      <td>Action, Comedy, Historical, Parody, Samurai, S...</td>\n",
       "      <td>TV</td>\n",
       "      <td>51</td>\n",
       "      <td>9.16</td>\n",
       "      <td>151266</td>\n",
       "    </tr>\n",
       "    <tr>\n",
       "      <th>...</th>\n",
       "      <td>...</td>\n",
       "      <td>...</td>\n",
       "      <td>...</td>\n",
       "      <td>...</td>\n",
       "      <td>...</td>\n",
       "      <td>...</td>\n",
       "      <td>...</td>\n",
       "    </tr>\n",
       "    <tr>\n",
       "      <th>12289</th>\n",
       "      <td>9316</td>\n",
       "      <td>Toushindai My Lover: Minami tai Mecha-Minami</td>\n",
       "      <td>Hentai</td>\n",
       "      <td>OVA</td>\n",
       "      <td>1</td>\n",
       "      <td>4.15</td>\n",
       "      <td>211</td>\n",
       "    </tr>\n",
       "    <tr>\n",
       "      <th>12290</th>\n",
       "      <td>5543</td>\n",
       "      <td>Under World</td>\n",
       "      <td>Hentai</td>\n",
       "      <td>OVA</td>\n",
       "      <td>1</td>\n",
       "      <td>4.28</td>\n",
       "      <td>183</td>\n",
       "    </tr>\n",
       "    <tr>\n",
       "      <th>12291</th>\n",
       "      <td>5621</td>\n",
       "      <td>Violence Gekiga David no Hoshi</td>\n",
       "      <td>Hentai</td>\n",
       "      <td>OVA</td>\n",
       "      <td>4</td>\n",
       "      <td>4.88</td>\n",
       "      <td>219</td>\n",
       "    </tr>\n",
       "    <tr>\n",
       "      <th>12292</th>\n",
       "      <td>6133</td>\n",
       "      <td>Violence Gekiga Shin David no Hoshi: Inma Dens...</td>\n",
       "      <td>Hentai</td>\n",
       "      <td>OVA</td>\n",
       "      <td>1</td>\n",
       "      <td>4.98</td>\n",
       "      <td>175</td>\n",
       "    </tr>\n",
       "    <tr>\n",
       "      <th>12293</th>\n",
       "      <td>26081</td>\n",
       "      <td>Yasuji no Pornorama: Yacchimae!!</td>\n",
       "      <td>Hentai</td>\n",
       "      <td>Movie</td>\n",
       "      <td>1</td>\n",
       "      <td>5.46</td>\n",
       "      <td>142</td>\n",
       "    </tr>\n",
       "  </tbody>\n",
       "</table>\n",
       "<p>12294 rows × 7 columns</p>\n",
       "</div>"
      ],
      "text/plain": [
       "       anime_id                                               name  \\\n",
       "0         32281                                     Kimi no Na wa.   \n",
       "1          5114                   Fullmetal Alchemist: Brotherhood   \n",
       "2         28977                                          GintamaÂ°   \n",
       "3          9253                                        Steins;Gate   \n",
       "4          9969                                      Gintama&#039;   \n",
       "...         ...                                                ...   \n",
       "12289      9316       Toushindai My Lover: Minami tai Mecha-Minami   \n",
       "12290      5543                                        Under World   \n",
       "12291      5621                     Violence Gekiga David no Hoshi   \n",
       "12292      6133  Violence Gekiga Shin David no Hoshi: Inma Dens...   \n",
       "12293     26081                   Yasuji no Pornorama: Yacchimae!!   \n",
       "\n",
       "                                                   genre   type episodes  \\\n",
       "0                   Drama, Romance, School, Supernatural  Movie        1   \n",
       "1      Action, Adventure, Drama, Fantasy, Magic, Mili...     TV       64   \n",
       "2      Action, Comedy, Historical, Parody, Samurai, S...     TV       51   \n",
       "3                                       Sci-Fi, Thriller     TV       24   \n",
       "4      Action, Comedy, Historical, Parody, Samurai, S...     TV       51   \n",
       "...                                                  ...    ...      ...   \n",
       "12289                                             Hentai    OVA        1   \n",
       "12290                                             Hentai    OVA        1   \n",
       "12291                                             Hentai    OVA        4   \n",
       "12292                                             Hentai    OVA        1   \n",
       "12293                                             Hentai  Movie        1   \n",
       "\n",
       "       rating  members  \n",
       "0        9.37   200630  \n",
       "1        9.26   793665  \n",
       "2        9.25   114262  \n",
       "3        9.17   673572  \n",
       "4        9.16   151266  \n",
       "...       ...      ...  \n",
       "12289    4.15      211  \n",
       "12290    4.28      183  \n",
       "12291    4.88      219  \n",
       "12292    4.98      175  \n",
       "12293    5.46      142  \n",
       "\n",
       "[12294 rows x 7 columns]"
      ]
     },
     "execution_count": 4,
     "metadata": {},
     "output_type": "execute_result"
    }
   ],
   "source": [
    "df_1\n"
   ]
  },
  {
   "cell_type": "code",
   "execution_count": 5,
   "metadata": {},
   "outputs": [
    {
     "data": {
      "text/plain": [
       "anime_id      0\n",
       "name          0\n",
       "genre        62\n",
       "type         25\n",
       "episodes      0\n",
       "rating      230\n",
       "members       0\n",
       "dtype: int64"
      ]
     },
     "execution_count": 5,
     "metadata": {},
     "output_type": "execute_result"
    }
   ],
   "source": [
    "df_1.isnull().sum()"
   ]
  },
  {
   "cell_type": "code",
   "execution_count": 6,
   "metadata": {},
   "outputs": [
    {
     "data": {
      "text/html": [
       "<div>\n",
       "<style scoped>\n",
       "    .dataframe tbody tr th:only-of-type {\n",
       "        vertical-align: middle;\n",
       "    }\n",
       "\n",
       "    .dataframe tbody tr th {\n",
       "        vertical-align: top;\n",
       "    }\n",
       "\n",
       "    .dataframe thead th {\n",
       "        text-align: right;\n",
       "    }\n",
       "</style>\n",
       "<table border=\"1\" class=\"dataframe\">\n",
       "  <thead>\n",
       "    <tr style=\"text-align: right;\">\n",
       "      <th></th>\n",
       "      <th>Title</th>\n",
       "      <th>Rank</th>\n",
       "      <th>Type</th>\n",
       "      <th>Episodes</th>\n",
       "      <th>Aired</th>\n",
       "      <th>Members</th>\n",
       "      <th>page_url</th>\n",
       "      <th>image_url</th>\n",
       "      <th>Score</th>\n",
       "    </tr>\n",
       "  </thead>\n",
       "  <tbody>\n",
       "    <tr>\n",
       "      <th>0</th>\n",
       "      <td>Net-juu no Susume</td>\n",
       "      <td>1568</td>\n",
       "      <td>TV</td>\n",
       "      <td>10</td>\n",
       "      <td>Oct 2017 - Dec 2017</td>\n",
       "      <td>450968</td>\n",
       "      <td>https://myanimelist.net/anime/36038/Net-juu_no...</td>\n",
       "      <td>https://cdn.myanimelist.net/r/100x140/images/a...</td>\n",
       "      <td>7.55</td>\n",
       "    </tr>\n",
       "    <tr>\n",
       "      <th>1</th>\n",
       "      <td>Neon Genesis Evangelion: The End of Evangelion</td>\n",
       "      <td>99</td>\n",
       "      <td>Movie</td>\n",
       "      <td>1</td>\n",
       "      <td>Jul 1997 - Jul 1997</td>\n",
       "      <td>883576</td>\n",
       "      <td>https://myanimelist.net/anime/32/Neon_Genesis_...</td>\n",
       "      <td>https://cdn.myanimelist.net/r/100x140/images/a...</td>\n",
       "      <td>8.55</td>\n",
       "    </tr>\n",
       "    <tr>\n",
       "      <th>2</th>\n",
       "      <td>Templex</td>\n",
       "      <td>11445</td>\n",
       "      <td>Movie</td>\n",
       "      <td>1</td>\n",
       "      <td>2015 - 2015</td>\n",
       "      <td>538</td>\n",
       "      <td>https://myanimelist.net/anime/40721/Templex</td>\n",
       "      <td>https://cdn.myanimelist.net/r/100x140/images/a...</td>\n",
       "      <td>5.29</td>\n",
       "    </tr>\n",
       "    <tr>\n",
       "      <th>3</th>\n",
       "      <td>s.CRY.ed</td>\n",
       "      <td>2248</td>\n",
       "      <td>TV</td>\n",
       "      <td>26</td>\n",
       "      <td>Jul 2001 - Dec 2001</td>\n",
       "      <td>81283</td>\n",
       "      <td>https://myanimelist.net/anime/168/sCRYed</td>\n",
       "      <td>https://cdn.myanimelist.net/r/100x140/images/a...</td>\n",
       "      <td>7.36</td>\n",
       "    </tr>\n",
       "    <tr>\n",
       "      <th>4</th>\n",
       "      <td>Toaru Majutsu no Index-tan III</td>\n",
       "      <td>6679</td>\n",
       "      <td>Special</td>\n",
       "      <td>2</td>\n",
       "      <td>Dec 2018 - Apr 2019</td>\n",
       "      <td>11370</td>\n",
       "      <td>https://myanimelist.net/anime/39094/Toaru_Maju...</td>\n",
       "      <td>https://cdn.myanimelist.net/r/100x140/images/a...</td>\n",
       "      <td>6.44</td>\n",
       "    </tr>\n",
       "    <tr>\n",
       "      <th>...</th>\n",
       "      <td>...</td>\n",
       "      <td>...</td>\n",
       "      <td>...</td>\n",
       "      <td>...</td>\n",
       "      <td>...</td>\n",
       "      <td>...</td>\n",
       "      <td>...</td>\n",
       "      <td>...</td>\n",
       "      <td>...</td>\n",
       "    </tr>\n",
       "    <tr>\n",
       "      <th>12769</th>\n",
       "      <td>Neko no Ongaeshi</td>\n",
       "      <td>1090</td>\n",
       "      <td>Movie</td>\n",
       "      <td>1</td>\n",
       "      <td>Jul 2002 - Jul 2002</td>\n",
       "      <td>259386</td>\n",
       "      <td>https://myanimelist.net/anime/597/Neko_no_Onga...</td>\n",
       "      <td>https://cdn.myanimelist.net/r/100x140/images/a...</td>\n",
       "      <td>7.72</td>\n",
       "    </tr>\n",
       "    <tr>\n",
       "      <th>12770</th>\n",
       "      <td>Kowasugimasu.</td>\n",
       "      <td>12283</td>\n",
       "      <td>ONA</td>\n",
       "      <td>1</td>\n",
       "      <td>Mar 2018 - Mar 2018</td>\n",
       "      <td>352</td>\n",
       "      <td>https://myanimelist.net/anime/42014/Kowasugimasu</td>\n",
       "      <td>https://cdn.myanimelist.net/r/100x140/images/a...</td>\n",
       "      <td>4.80</td>\n",
       "    </tr>\n",
       "    <tr>\n",
       "      <th>12771</th>\n",
       "      <td>Bloody Date</td>\n",
       "      <td>12661</td>\n",
       "      <td>ONA</td>\n",
       "      <td>1</td>\n",
       "      <td>Nov 2006 - Nov 2006</td>\n",
       "      <td>4112</td>\n",
       "      <td>https://myanimelist.net/anime/11691/Bloody_Date</td>\n",
       "      <td>https://cdn.myanimelist.net/r/100x140/images/a...</td>\n",
       "      <td>4.21</td>\n",
       "    </tr>\n",
       "    <tr>\n",
       "      <th>12772</th>\n",
       "      <td>Deliver Police: Nishitokyo-shi Deliver Keisats...</td>\n",
       "      <td>11318</td>\n",
       "      <td>ONA</td>\n",
       "      <td>1</td>\n",
       "      <td>Mar 2021 - Mar 2021</td>\n",
       "      <td>485</td>\n",
       "      <td>https://myanimelist.net/anime/48575/Deliver_Po...</td>\n",
       "      <td>https://cdn.myanimelist.net/r/100x140/images/a...</td>\n",
       "      <td>5.34</td>\n",
       "    </tr>\n",
       "    <tr>\n",
       "      <th>12773</th>\n",
       "      <td>City Hunter: Goodbye My Sweetheart</td>\n",
       "      <td>1750</td>\n",
       "      <td>Special</td>\n",
       "      <td>1</td>\n",
       "      <td>Apr 1997 - Apr 1997</td>\n",
       "      <td>7274</td>\n",
       "      <td>https://myanimelist.net/anime/1478/City_Hunter...</td>\n",
       "      <td>https://cdn.myanimelist.net/r/100x140/images/a...</td>\n",
       "      <td>7.49</td>\n",
       "    </tr>\n",
       "  </tbody>\n",
       "</table>\n",
       "<p>12774 rows × 9 columns</p>\n",
       "</div>"
      ],
      "text/plain": [
       "                                                   Title   Rank     Type  \\\n",
       "0                                      Net-juu no Susume   1568       TV   \n",
       "1         Neon Genesis Evangelion: The End of Evangelion     99    Movie   \n",
       "2                                                Templex  11445    Movie   \n",
       "3                                               s.CRY.ed   2248       TV   \n",
       "4                         Toaru Majutsu no Index-tan III   6679  Special   \n",
       "...                                                  ...    ...      ...   \n",
       "12769                                   Neko no Ongaeshi   1090    Movie   \n",
       "12770                                      Kowasugimasu.  12283      ONA   \n",
       "12771                                        Bloody Date  12661      ONA   \n",
       "12772  Deliver Police: Nishitokyo-shi Deliver Keisats...  11318      ONA   \n",
       "12773                 City Hunter: Goodbye My Sweetheart   1750  Special   \n",
       "\n",
       "      Episodes                Aired  Members  \\\n",
       "0           10  Oct 2017 - Dec 2017   450968   \n",
       "1            1  Jul 1997 - Jul 1997   883576   \n",
       "2            1          2015 - 2015      538   \n",
       "3           26  Jul 2001 - Dec 2001    81283   \n",
       "4            2  Dec 2018 - Apr 2019    11370   \n",
       "...        ...                  ...      ...   \n",
       "12769        1  Jul 2002 - Jul 2002   259386   \n",
       "12770        1  Mar 2018 - Mar 2018      352   \n",
       "12771        1  Nov 2006 - Nov 2006     4112   \n",
       "12772        1  Mar 2021 - Mar 2021      485   \n",
       "12773        1  Apr 1997 - Apr 1997     7274   \n",
       "\n",
       "                                                page_url  \\\n",
       "0      https://myanimelist.net/anime/36038/Net-juu_no...   \n",
       "1      https://myanimelist.net/anime/32/Neon_Genesis_...   \n",
       "2            https://myanimelist.net/anime/40721/Templex   \n",
       "3               https://myanimelist.net/anime/168/sCRYed   \n",
       "4      https://myanimelist.net/anime/39094/Toaru_Maju...   \n",
       "...                                                  ...   \n",
       "12769  https://myanimelist.net/anime/597/Neko_no_Onga...   \n",
       "12770   https://myanimelist.net/anime/42014/Kowasugimasu   \n",
       "12771    https://myanimelist.net/anime/11691/Bloody_Date   \n",
       "12772  https://myanimelist.net/anime/48575/Deliver_Po...   \n",
       "12773  https://myanimelist.net/anime/1478/City_Hunter...   \n",
       "\n",
       "                                               image_url  Score  \n",
       "0      https://cdn.myanimelist.net/r/100x140/images/a...   7.55  \n",
       "1      https://cdn.myanimelist.net/r/100x140/images/a...   8.55  \n",
       "2      https://cdn.myanimelist.net/r/100x140/images/a...   5.29  \n",
       "3      https://cdn.myanimelist.net/r/100x140/images/a...   7.36  \n",
       "4      https://cdn.myanimelist.net/r/100x140/images/a...   6.44  \n",
       "...                                                  ...    ...  \n",
       "12769  https://cdn.myanimelist.net/r/100x140/images/a...   7.72  \n",
       "12770  https://cdn.myanimelist.net/r/100x140/images/a...   4.80  \n",
       "12771  https://cdn.myanimelist.net/r/100x140/images/a...   4.21  \n",
       "12772  https://cdn.myanimelist.net/r/100x140/images/a...   5.34  \n",
       "12773  https://cdn.myanimelist.net/r/100x140/images/a...   7.49  \n",
       "\n",
       "[12774 rows x 9 columns]"
      ]
     },
     "execution_count": 6,
     "metadata": {},
     "output_type": "execute_result"
    }
   ],
   "source": [
    "df_2"
   ]
  },
  {
   "cell_type": "code",
   "execution_count": 7,
   "metadata": {},
   "outputs": [
    {
     "data": {
      "text/plain": [
       "Title        0\n",
       "Rank         0\n",
       "Type         0\n",
       "Episodes     0\n",
       "Aired        0\n",
       "Members      0\n",
       "page_url     0\n",
       "image_url    0\n",
       "Score        0\n",
       "dtype: int64"
      ]
     },
     "execution_count": 7,
     "metadata": {},
     "output_type": "execute_result"
    }
   ],
   "source": [
    "df_2.isnull().sum()"
   ]
  },
  {
   "cell_type": "code",
   "execution_count": 8,
   "metadata": {},
   "outputs": [
    {
     "data": {
      "text/plain": [
       "Title          104\n",
       "Rank             0\n",
       "Type             0\n",
       "Episodes        55\n",
       "Aired            0\n",
       "Members          0\n",
       "page_url         0\n",
       "image_url    12774\n",
       "Score            0\n",
       "dtype: int64"
      ]
     },
     "execution_count": 8,
     "metadata": {},
     "output_type": "execute_result"
    }
   ],
   "source": [
    "tiene_simbolo = df_2.map(lambda x: '?' in str(x))\n",
    "# Ver las celdas que contienen '?'\n",
    "tiene_simbolo.sum()"
   ]
  },
  {
   "cell_type": "markdown",
   "metadata": {},
   "source": [
    "- Uniremos el df_1 con el df_2 utilizando el nombre como clave para obtener las fechas de estreno.\n",
    "- Somos conscientes de que esto puede resultar en pérdida de datos; por ello, conservaremos las versiones originales de df_1 y df_2."
   ]
  },
  {
   "cell_type": "code",
   "execution_count": 9,
   "metadata": {},
   "outputs": [],
   "source": [
    "# Función para normalizar las cadenas: convertir a minúsculas, eliminar tildes y caracteres especiales\n",
    "def normalizar_texto(texto):\n",
    "    \n",
    "    # Convertir a minúsculas\n",
    "    texto = texto.lower()\n",
    "\n",
    "    # Eliminar tildes(acentos)\n",
    "    texto = ''.join((c for c in unicodedata.normalize('NFD', texto) if unicodedata.category(c) != 'Mn'))\n",
    "\n",
    "        # Eliminar caracteres especiales como '/', '-', ';', ':', '#', '°', paréntesis y corchetes\n",
    "    texto = re.sub(r'[-/;:#°(){}\\[\\]]', '', texto)\n",
    "    \n",
    "    # Eliminar múltiples espacios en blanco\n",
    "    texto = re.sub(r'\\s+', ' ', texto).strip()\n",
    "    return texto"
   ]
  },
  {
   "cell_type": "code",
   "execution_count": 10,
   "metadata": {},
   "outputs": [],
   "source": [
    "# Normalizar las columnas 'nombre' de ambos DataFrames\n",
    "df_1['nombre_normalizado'] = df_1['name'].apply(normalizar_texto)\n",
    "df_2['nombre_normalizado'] = df_2['Title'].apply(normalizar_texto)\n"
   ]
  },
  {
   "cell_type": "code",
   "execution_count": 11,
   "metadata": {},
   "outputs": [
    {
     "data": {
      "text/html": [
       "<div>\n",
       "<style scoped>\n",
       "    .dataframe tbody tr th:only-of-type {\n",
       "        vertical-align: middle;\n",
       "    }\n",
       "\n",
       "    .dataframe tbody tr th {\n",
       "        vertical-align: top;\n",
       "    }\n",
       "\n",
       "    .dataframe thead th {\n",
       "        text-align: right;\n",
       "    }\n",
       "</style>\n",
       "<table border=\"1\" class=\"dataframe\">\n",
       "  <thead>\n",
       "    <tr style=\"text-align: right;\">\n",
       "      <th></th>\n",
       "      <th>anime_id</th>\n",
       "      <th>name</th>\n",
       "      <th>genre</th>\n",
       "      <th>type</th>\n",
       "      <th>episodes</th>\n",
       "      <th>rating</th>\n",
       "      <th>members</th>\n",
       "      <th>nombre_normalizado</th>\n",
       "    </tr>\n",
       "  </thead>\n",
       "  <tbody>\n",
       "    <tr>\n",
       "      <th>0</th>\n",
       "      <td>32281</td>\n",
       "      <td>Kimi no Na wa.</td>\n",
       "      <td>Drama, Romance, School, Supernatural</td>\n",
       "      <td>Movie</td>\n",
       "      <td>1</td>\n",
       "      <td>9.37</td>\n",
       "      <td>200630</td>\n",
       "      <td>kimi no na wa.</td>\n",
       "    </tr>\n",
       "    <tr>\n",
       "      <th>1</th>\n",
       "      <td>5114</td>\n",
       "      <td>Fullmetal Alchemist: Brotherhood</td>\n",
       "      <td>Action, Adventure, Drama, Fantasy, Magic, Mili...</td>\n",
       "      <td>TV</td>\n",
       "      <td>64</td>\n",
       "      <td>9.26</td>\n",
       "      <td>793665</td>\n",
       "      <td>fullmetal alchemist brotherhood</td>\n",
       "    </tr>\n",
       "  </tbody>\n",
       "</table>\n",
       "</div>"
      ],
      "text/plain": [
       "   anime_id                              name  \\\n",
       "0     32281                    Kimi no Na wa.   \n",
       "1      5114  Fullmetal Alchemist: Brotherhood   \n",
       "\n",
       "                                               genre   type episodes  rating  \\\n",
       "0               Drama, Romance, School, Supernatural  Movie        1    9.37   \n",
       "1  Action, Adventure, Drama, Fantasy, Magic, Mili...     TV       64    9.26   \n",
       "\n",
       "   members               nombre_normalizado  \n",
       "0   200630                   kimi no na wa.  \n",
       "1   793665  fullmetal alchemist brotherhood  "
      ]
     },
     "execution_count": 11,
     "metadata": {},
     "output_type": "execute_result"
    }
   ],
   "source": [
    "df_1.head(2)"
   ]
  },
  {
   "cell_type": "code",
   "execution_count": 12,
   "metadata": {},
   "outputs": [
    {
     "data": {
      "text/html": [
       "<div>\n",
       "<style scoped>\n",
       "    .dataframe tbody tr th:only-of-type {\n",
       "        vertical-align: middle;\n",
       "    }\n",
       "\n",
       "    .dataframe tbody tr th {\n",
       "        vertical-align: top;\n",
       "    }\n",
       "\n",
       "    .dataframe thead th {\n",
       "        text-align: right;\n",
       "    }\n",
       "</style>\n",
       "<table border=\"1\" class=\"dataframe\">\n",
       "  <thead>\n",
       "    <tr style=\"text-align: right;\">\n",
       "      <th></th>\n",
       "      <th>Title</th>\n",
       "      <th>Rank</th>\n",
       "      <th>Type</th>\n",
       "      <th>Episodes</th>\n",
       "      <th>Aired</th>\n",
       "      <th>Members</th>\n",
       "      <th>page_url</th>\n",
       "      <th>image_url</th>\n",
       "      <th>Score</th>\n",
       "      <th>nombre_normalizado</th>\n",
       "    </tr>\n",
       "  </thead>\n",
       "  <tbody>\n",
       "    <tr>\n",
       "      <th>0</th>\n",
       "      <td>Net-juu no Susume</td>\n",
       "      <td>1568</td>\n",
       "      <td>TV</td>\n",
       "      <td>10</td>\n",
       "      <td>Oct 2017 - Dec 2017</td>\n",
       "      <td>450968</td>\n",
       "      <td>https://myanimelist.net/anime/36038/Net-juu_no...</td>\n",
       "      <td>https://cdn.myanimelist.net/r/100x140/images/a...</td>\n",
       "      <td>7.55</td>\n",
       "      <td>netjuu no susume</td>\n",
       "    </tr>\n",
       "    <tr>\n",
       "      <th>1</th>\n",
       "      <td>Neon Genesis Evangelion: The End of Evangelion</td>\n",
       "      <td>99</td>\n",
       "      <td>Movie</td>\n",
       "      <td>1</td>\n",
       "      <td>Jul 1997 - Jul 1997</td>\n",
       "      <td>883576</td>\n",
       "      <td>https://myanimelist.net/anime/32/Neon_Genesis_...</td>\n",
       "      <td>https://cdn.myanimelist.net/r/100x140/images/a...</td>\n",
       "      <td>8.55</td>\n",
       "      <td>neon genesis evangelion the end of evangelion</td>\n",
       "    </tr>\n",
       "  </tbody>\n",
       "</table>\n",
       "</div>"
      ],
      "text/plain": [
       "                                            Title  Rank   Type Episodes  \\\n",
       "0                               Net-juu no Susume  1568     TV       10   \n",
       "1  Neon Genesis Evangelion: The End of Evangelion    99  Movie        1   \n",
       "\n",
       "                 Aired  Members  \\\n",
       "0  Oct 2017 - Dec 2017   450968   \n",
       "1  Jul 1997 - Jul 1997   883576   \n",
       "\n",
       "                                            page_url  \\\n",
       "0  https://myanimelist.net/anime/36038/Net-juu_no...   \n",
       "1  https://myanimelist.net/anime/32/Neon_Genesis_...   \n",
       "\n",
       "                                           image_url  Score  \\\n",
       "0  https://cdn.myanimelist.net/r/100x140/images/a...   7.55   \n",
       "1  https://cdn.myanimelist.net/r/100x140/images/a...   8.55   \n",
       "\n",
       "                              nombre_normalizado  \n",
       "0                               netjuu no susume  \n",
       "1  neon genesis evangelion the end of evangelion  "
      ]
     },
     "execution_count": 12,
     "metadata": {},
     "output_type": "execute_result"
    }
   ],
   "source": [
    "df_2.head(2)"
   ]
  },
  {
   "cell_type": "code",
   "execution_count": 13,
   "metadata": {},
   "outputs": [],
   "source": [
    "df_unido = pd.merge(df_1, df_2, left_on='nombre_normalizado', right_on='nombre_normalizado', how='inner')"
   ]
  },
  {
   "cell_type": "code",
   "execution_count": 14,
   "metadata": {},
   "outputs": [
    {
     "data": {
      "text/html": [
       "<div>\n",
       "<style scoped>\n",
       "    .dataframe tbody tr th:only-of-type {\n",
       "        vertical-align: middle;\n",
       "    }\n",
       "\n",
       "    .dataframe tbody tr th {\n",
       "        vertical-align: top;\n",
       "    }\n",
       "\n",
       "    .dataframe thead th {\n",
       "        text-align: right;\n",
       "    }\n",
       "</style>\n",
       "<table border=\"1\" class=\"dataframe\">\n",
       "  <thead>\n",
       "    <tr style=\"text-align: right;\">\n",
       "      <th></th>\n",
       "      <th>anime_id</th>\n",
       "      <th>name</th>\n",
       "      <th>genre</th>\n",
       "      <th>type</th>\n",
       "      <th>episodes</th>\n",
       "      <th>rating</th>\n",
       "      <th>members</th>\n",
       "      <th>nombre_normalizado</th>\n",
       "      <th>Title</th>\n",
       "      <th>Rank</th>\n",
       "      <th>Type</th>\n",
       "      <th>Episodes</th>\n",
       "      <th>Aired</th>\n",
       "      <th>Members</th>\n",
       "      <th>page_url</th>\n",
       "      <th>image_url</th>\n",
       "      <th>Score</th>\n",
       "    </tr>\n",
       "  </thead>\n",
       "  <tbody>\n",
       "    <tr>\n",
       "      <th>0</th>\n",
       "      <td>32281</td>\n",
       "      <td>Kimi no Na wa.</td>\n",
       "      <td>Drama, Romance, School, Supernatural</td>\n",
       "      <td>Movie</td>\n",
       "      <td>1</td>\n",
       "      <td>9.37</td>\n",
       "      <td>200630</td>\n",
       "      <td>kimi no na wa.</td>\n",
       "      <td>Kimi no Na wa.</td>\n",
       "      <td>27</td>\n",
       "      <td>Movie</td>\n",
       "      <td>1</td>\n",
       "      <td>Aug 2016 - Aug 2016</td>\n",
       "      <td>2608836</td>\n",
       "      <td>https://myanimelist.net/anime/32281/Kimi_no_Na_wa</td>\n",
       "      <td>https://cdn.myanimelist.net/r/100x140/images/a...</td>\n",
       "      <td>8.85</td>\n",
       "    </tr>\n",
       "    <tr>\n",
       "      <th>1</th>\n",
       "      <td>5114</td>\n",
       "      <td>Fullmetal Alchemist: Brotherhood</td>\n",
       "      <td>Action, Adventure, Drama, Fantasy, Magic, Mili...</td>\n",
       "      <td>TV</td>\n",
       "      <td>64</td>\n",
       "      <td>9.26</td>\n",
       "      <td>793665</td>\n",
       "      <td>fullmetal alchemist brotherhood</td>\n",
       "      <td>Fullmetal Alchemist: Brotherhood</td>\n",
       "      <td>1</td>\n",
       "      <td>TV</td>\n",
       "      <td>64</td>\n",
       "      <td>Apr 2009 - Jul 2010</td>\n",
       "      <td>3188280</td>\n",
       "      <td>https://myanimelist.net/anime/5114/Fullmetal_A...</td>\n",
       "      <td>https://cdn.myanimelist.net/r/100x140/images/a...</td>\n",
       "      <td>9.10</td>\n",
       "    </tr>\n",
       "    <tr>\n",
       "      <th>2</th>\n",
       "      <td>28977</td>\n",
       "      <td>GintamaÂ°</td>\n",
       "      <td>Action, Comedy, Historical, Parody, Samurai, S...</td>\n",
       "      <td>TV</td>\n",
       "      <td>51</td>\n",
       "      <td>9.25</td>\n",
       "      <td>114262</td>\n",
       "      <td>gintamaa</td>\n",
       "      <td>GintamaÂ°</td>\n",
       "      <td>4</td>\n",
       "      <td>TV</td>\n",
       "      <td>51</td>\n",
       "      <td>Apr 2015 - Mar 2016</td>\n",
       "      <td>598624</td>\n",
       "      <td>https://myanimelist.net/anime/28977/GintamaÂ°</td>\n",
       "      <td>https://cdn.myanimelist.net/r/100x140/images/a...</td>\n",
       "      <td>9.06</td>\n",
       "    </tr>\n",
       "    <tr>\n",
       "      <th>3</th>\n",
       "      <td>9253</td>\n",
       "      <td>Steins;Gate</td>\n",
       "      <td>Sci-Fi, Thriller</td>\n",
       "      <td>TV</td>\n",
       "      <td>24</td>\n",
       "      <td>9.17</td>\n",
       "      <td>673572</td>\n",
       "      <td>steinsgate</td>\n",
       "      <td>Steins;Gate</td>\n",
       "      <td>2</td>\n",
       "      <td>TV</td>\n",
       "      <td>24</td>\n",
       "      <td>Apr 2011 - Sep 2011</td>\n",
       "      <td>2449954</td>\n",
       "      <td>https://myanimelist.net/anime/9253/Steins_Gate</td>\n",
       "      <td>https://cdn.myanimelist.net/r/100x140/images/a...</td>\n",
       "      <td>9.07</td>\n",
       "    </tr>\n",
       "    <tr>\n",
       "      <th>4</th>\n",
       "      <td>11061</td>\n",
       "      <td>Hunter x Hunter (2011)</td>\n",
       "      <td>Action, Adventure, Shounen, Super Power</td>\n",
       "      <td>TV</td>\n",
       "      <td>148</td>\n",
       "      <td>9.13</td>\n",
       "      <td>425855</td>\n",
       "      <td>hunter x hunter 2011</td>\n",
       "      <td>Hunter x Hunter (2011)</td>\n",
       "      <td>10</td>\n",
       "      <td>TV</td>\n",
       "      <td>148</td>\n",
       "      <td>Oct 2011 - Sep 2014</td>\n",
       "      <td>2669186</td>\n",
       "      <td>https://myanimelist.net/anime/11061/Hunter_x_H...</td>\n",
       "      <td>https://cdn.myanimelist.net/r/100x140/images/a...</td>\n",
       "      <td>9.04</td>\n",
       "    </tr>\n",
       "    <tr>\n",
       "      <th>...</th>\n",
       "      <td>...</td>\n",
       "      <td>...</td>\n",
       "      <td>...</td>\n",
       "      <td>...</td>\n",
       "      <td>...</td>\n",
       "      <td>...</td>\n",
       "      <td>...</td>\n",
       "      <td>...</td>\n",
       "      <td>...</td>\n",
       "      <td>...</td>\n",
       "      <td>...</td>\n",
       "      <td>...</td>\n",
       "      <td>...</td>\n",
       "      <td>...</td>\n",
       "      <td>...</td>\n",
       "      <td>...</td>\n",
       "      <td>...</td>\n",
       "    </tr>\n",
       "    <tr>\n",
       "      <th>7876</th>\n",
       "      <td>2592</td>\n",
       "      <td>Kimera</td>\n",
       "      <td>Action, Horror, Sci-Fi, Supernatural, Vampire,...</td>\n",
       "      <td>OVA</td>\n",
       "      <td>1</td>\n",
       "      <td>5.29</td>\n",
       "      <td>3374</td>\n",
       "      <td>kimera</td>\n",
       "      <td>Kimera</td>\n",
       "      <td>11880</td>\n",
       "      <td>OVA</td>\n",
       "      <td>1</td>\n",
       "      <td>Jul 1996 - Jul 1996</td>\n",
       "      <td>7769</td>\n",
       "      <td>https://myanimelist.net/anime/2592/Kimera</td>\n",
       "      <td>https://cdn.myanimelist.net/r/100x140/images/a...</td>\n",
       "      <td>5.09</td>\n",
       "    </tr>\n",
       "    <tr>\n",
       "      <th>7877</th>\n",
       "      <td>730</td>\n",
       "      <td>Houkago no Shokuinshitsu</td>\n",
       "      <td>Drama, Romance, Yaoi</td>\n",
       "      <td>OVA</td>\n",
       "      <td>2</td>\n",
       "      <td>5.23</td>\n",
       "      <td>4550</td>\n",
       "      <td>houkago no shokuinshitsu</td>\n",
       "      <td>Houkago no Shokuinshitsu</td>\n",
       "      <td>11962</td>\n",
       "      <td>OVA</td>\n",
       "      <td>2</td>\n",
       "      <td>Apr 1994 - Jan 1995</td>\n",
       "      <td>7604</td>\n",
       "      <td>https://myanimelist.net/anime/730/Houkago_no_S...</td>\n",
       "      <td>https://cdn.myanimelist.net/r/100x140/images/a...</td>\n",
       "      <td>5.04</td>\n",
       "    </tr>\n",
       "    <tr>\n",
       "      <th>7878</th>\n",
       "      <td>30663</td>\n",
       "      <td>Docchi mo Maid</td>\n",
       "      <td>Action, Comedy, Ecchi, Yuri</td>\n",
       "      <td>ONA</td>\n",
       "      <td>1</td>\n",
       "      <td>5.15</td>\n",
       "      <td>223</td>\n",
       "      <td>docchi mo maid</td>\n",
       "      <td>Docchi mo Maid</td>\n",
       "      <td>12700</td>\n",
       "      <td>ONA</td>\n",
       "      <td>1</td>\n",
       "      <td>2004 - 2004</td>\n",
       "      <td>2386</td>\n",
       "      <td>https://myanimelist.net/anime/30663/Docchi_mo_...</td>\n",
       "      <td>https://cdn.myanimelist.net/r/100x140/images/a...</td>\n",
       "      <td>4.00</td>\n",
       "    </tr>\n",
       "    <tr>\n",
       "      <th>7879</th>\n",
       "      <td>34382</td>\n",
       "      <td>Citrus</td>\n",
       "      <td>Drama, Romance, School, Yuri</td>\n",
       "      <td>NaN</td>\n",
       "      <td>Unknown</td>\n",
       "      <td>NaN</td>\n",
       "      <td>2459</td>\n",
       "      <td>citrus</td>\n",
       "      <td>Citrus</td>\n",
       "      <td>6632</td>\n",
       "      <td>TV</td>\n",
       "      <td>12</td>\n",
       "      <td>Jan 2018 - Mar 2018</td>\n",
       "      <td>497244</td>\n",
       "      <td>https://myanimelist.net/anime/34382/Citrus</td>\n",
       "      <td>https://cdn.myanimelist.net/r/100x140/images/a...</td>\n",
       "      <td>6.45</td>\n",
       "    </tr>\n",
       "    <tr>\n",
       "      <th>7880</th>\n",
       "      <td>33654</td>\n",
       "      <td>Hitorijime My Hero</td>\n",
       "      <td>Yaoi</td>\n",
       "      <td>NaN</td>\n",
       "      <td>Unknown</td>\n",
       "      <td>NaN</td>\n",
       "      <td>1574</td>\n",
       "      <td>hitorijime my hero</td>\n",
       "      <td>Hitorijime My Hero</td>\n",
       "      <td>2562</td>\n",
       "      <td>TV</td>\n",
       "      <td>12</td>\n",
       "      <td>Jul 2017 - Sep 2017</td>\n",
       "      <td>161833</td>\n",
       "      <td>https://myanimelist.net/anime/33654/Hitorijime...</td>\n",
       "      <td>https://cdn.myanimelist.net/r/100x140/images/a...</td>\n",
       "      <td>7.30</td>\n",
       "    </tr>\n",
       "  </tbody>\n",
       "</table>\n",
       "<p>7881 rows × 17 columns</p>\n",
       "</div>"
      ],
      "text/plain": [
       "      anime_id                              name  \\\n",
       "0        32281                    Kimi no Na wa.   \n",
       "1         5114  Fullmetal Alchemist: Brotherhood   \n",
       "2        28977                         GintamaÂ°   \n",
       "3         9253                       Steins;Gate   \n",
       "4        11061            Hunter x Hunter (2011)   \n",
       "...        ...                               ...   \n",
       "7876      2592                            Kimera   \n",
       "7877       730          Houkago no Shokuinshitsu   \n",
       "7878     30663                    Docchi mo Maid   \n",
       "7879     34382                            Citrus   \n",
       "7880     33654                Hitorijime My Hero   \n",
       "\n",
       "                                                  genre   type episodes  \\\n",
       "0                  Drama, Romance, School, Supernatural  Movie        1   \n",
       "1     Action, Adventure, Drama, Fantasy, Magic, Mili...     TV       64   \n",
       "2     Action, Comedy, Historical, Parody, Samurai, S...     TV       51   \n",
       "3                                      Sci-Fi, Thriller     TV       24   \n",
       "4               Action, Adventure, Shounen, Super Power     TV      148   \n",
       "...                                                 ...    ...      ...   \n",
       "7876  Action, Horror, Sci-Fi, Supernatural, Vampire,...    OVA        1   \n",
       "7877                               Drama, Romance, Yaoi    OVA        2   \n",
       "7878                        Action, Comedy, Ecchi, Yuri    ONA        1   \n",
       "7879                       Drama, Romance, School, Yuri    NaN  Unknown   \n",
       "7880                                               Yaoi    NaN  Unknown   \n",
       "\n",
       "      rating  members               nombre_normalizado  \\\n",
       "0       9.37   200630                   kimi no na wa.   \n",
       "1       9.26   793665  fullmetal alchemist brotherhood   \n",
       "2       9.25   114262                         gintamaa   \n",
       "3       9.17   673572                       steinsgate   \n",
       "4       9.13   425855             hunter x hunter 2011   \n",
       "...      ...      ...                              ...   \n",
       "7876    5.29     3374                           kimera   \n",
       "7877    5.23     4550         houkago no shokuinshitsu   \n",
       "7878    5.15      223                   docchi mo maid   \n",
       "7879     NaN     2459                           citrus   \n",
       "7880     NaN     1574               hitorijime my hero   \n",
       "\n",
       "                                 Title   Rank   Type Episodes  \\\n",
       "0                       Kimi no Na wa.     27  Movie        1   \n",
       "1     Fullmetal Alchemist: Brotherhood      1     TV       64   \n",
       "2                            GintamaÂ°      4     TV       51   \n",
       "3                          Steins;Gate      2     TV       24   \n",
       "4               Hunter x Hunter (2011)     10     TV      148   \n",
       "...                                ...    ...    ...      ...   \n",
       "7876                            Kimera  11880    OVA        1   \n",
       "7877          Houkago no Shokuinshitsu  11962    OVA        2   \n",
       "7878                    Docchi mo Maid  12700    ONA        1   \n",
       "7879                            Citrus   6632     TV       12   \n",
       "7880                Hitorijime My Hero   2562     TV       12   \n",
       "\n",
       "                    Aired  Members  \\\n",
       "0     Aug 2016 - Aug 2016  2608836   \n",
       "1     Apr 2009 - Jul 2010  3188280   \n",
       "2     Apr 2015 - Mar 2016   598624   \n",
       "3     Apr 2011 - Sep 2011  2449954   \n",
       "4     Oct 2011 - Sep 2014  2669186   \n",
       "...                   ...      ...   \n",
       "7876  Jul 1996 - Jul 1996     7769   \n",
       "7877  Apr 1994 - Jan 1995     7604   \n",
       "7878          2004 - 2004     2386   \n",
       "7879  Jan 2018 - Mar 2018   497244   \n",
       "7880  Jul 2017 - Sep 2017   161833   \n",
       "\n",
       "                                               page_url  \\\n",
       "0     https://myanimelist.net/anime/32281/Kimi_no_Na_wa   \n",
       "1     https://myanimelist.net/anime/5114/Fullmetal_A...   \n",
       "2         https://myanimelist.net/anime/28977/GintamaÂ°   \n",
       "3        https://myanimelist.net/anime/9253/Steins_Gate   \n",
       "4     https://myanimelist.net/anime/11061/Hunter_x_H...   \n",
       "...                                                 ...   \n",
       "7876          https://myanimelist.net/anime/2592/Kimera   \n",
       "7877  https://myanimelist.net/anime/730/Houkago_no_S...   \n",
       "7878  https://myanimelist.net/anime/30663/Docchi_mo_...   \n",
       "7879         https://myanimelist.net/anime/34382/Citrus   \n",
       "7880  https://myanimelist.net/anime/33654/Hitorijime...   \n",
       "\n",
       "                                              image_url  Score  \n",
       "0     https://cdn.myanimelist.net/r/100x140/images/a...   8.85  \n",
       "1     https://cdn.myanimelist.net/r/100x140/images/a...   9.10  \n",
       "2     https://cdn.myanimelist.net/r/100x140/images/a...   9.06  \n",
       "3     https://cdn.myanimelist.net/r/100x140/images/a...   9.07  \n",
       "4     https://cdn.myanimelist.net/r/100x140/images/a...   9.04  \n",
       "...                                                 ...    ...  \n",
       "7876  https://cdn.myanimelist.net/r/100x140/images/a...   5.09  \n",
       "7877  https://cdn.myanimelist.net/r/100x140/images/a...   5.04  \n",
       "7878  https://cdn.myanimelist.net/r/100x140/images/a...   4.00  \n",
       "7879  https://cdn.myanimelist.net/r/100x140/images/a...   6.45  \n",
       "7880  https://cdn.myanimelist.net/r/100x140/images/a...   7.30  \n",
       "\n",
       "[7881 rows x 17 columns]"
      ]
     },
     "execution_count": 14,
     "metadata": {},
     "output_type": "execute_result"
    }
   ],
   "source": [
    "df_unido"
   ]
  },
  {
   "cell_type": "markdown",
   "metadata": {},
   "source": [
    "**4.2.Estructura del DataFrame**"
   ]
  },
  {
   "cell_type": "markdown",
   "metadata": {},
   "source": [
    "- A partir de este momento, trabajaremos exclusivamente con el DataFrame df_union."
   ]
  },
  {
   "cell_type": "code",
   "execution_count": 15,
   "metadata": {},
   "outputs": [
    {
     "data": {
      "text/plain": [
       "(7881, 17)"
      ]
     },
     "execution_count": 15,
     "metadata": {},
     "output_type": "execute_result"
    }
   ],
   "source": [
    "df_unido.shape"
   ]
  },
  {
   "cell_type": "markdown",
   "metadata": {},
   "source": [
    "**4.3.Espacio en memoria utilizado.**"
   ]
  },
  {
   "cell_type": "code",
   "execution_count": 16,
   "metadata": {},
   "outputs": [
    {
     "data": {
      "text/plain": [
       "np.int64(7610361)"
      ]
     },
     "execution_count": 16,
     "metadata": {},
     "output_type": "execute_result"
    }
   ],
   "source": [
    "df_unido.memory_usage(deep=True).sum()"
   ]
  },
  {
   "cell_type": "markdown",
   "metadata": {},
   "source": [
    "- np.int64 es un tipo de datos de 64 bits, lo que significa que ocupa 8 bytes por valor."
   ]
  },
  {
   "cell_type": "markdown",
   "metadata": {},
   "source": [
    "**4.4.Verificar si hay jerarquías o estructuras anidadas**"
   ]
  },
  {
   "cell_type": "markdown",
   "metadata": {},
   "source": [
    "- Se sospecha que las columnas 'genre' y 'Aired' podrían ser algunas de las que contienen estructuras anidadas."
   ]
  },
  {
   "cell_type": "code",
   "execution_count": 17,
   "metadata": {},
   "outputs": [
    {
     "data": {
      "text/plain": [
       "np.int64(0)"
      ]
     },
     "execution_count": 17,
     "metadata": {},
     "output_type": "execute_result"
    }
   ],
   "source": [
    "# Verificar si alguna celda en la columna 'genre' tiene una lista\n",
    "df_unido['genre'].apply(lambda x: isinstance(x, list)).sum()"
   ]
  },
  {
   "cell_type": "code",
   "execution_count": 18,
   "metadata": {},
   "outputs": [
    {
     "data": {
      "text/plain": [
       "np.int64(0)"
      ]
     },
     "execution_count": 18,
     "metadata": {},
     "output_type": "execute_result"
    }
   ],
   "source": [
    "# Verificar si alguna celda en la columna 'genre' tiene una lista\n",
    "df_unido['Aired'].apply(lambda x: isinstance(x, list)).sum()"
   ]
  },
  {
   "cell_type": "code",
   "execution_count": 19,
   "metadata": {},
   "outputs": [
    {
     "data": {
      "text/plain": [
       "np.int64(6713)"
      ]
     },
     "execution_count": 19,
     "metadata": {},
     "output_type": "execute_result"
    }
   ],
   "source": [
    "# Verificar si alguna celda de 'genre' tiene géneros separados por comas\n",
    "df_unido['genre'].apply(lambda x: isinstance(x, str) and ',' in x).sum()"
   ]
  },
  {
   "cell_type": "code",
   "execution_count": 20,
   "metadata": {},
   "outputs": [
    {
     "data": {
      "text/plain": [
       "np.int64(7881)"
      ]
     },
     "execution_count": 20,
     "metadata": {},
     "output_type": "execute_result"
    }
   ],
   "source": [
    "# Verificar si alguna celda de 'genre' tiene géneros separados por comas\n",
    "df_unido['Aired'].apply(lambda x: isinstance(x, str) and '-' in x).sum()"
   ]
  },
  {
   "cell_type": "markdown",
   "metadata": {},
   "source": [
    "- Efectivamente, las columnas 'genre' y 'Aired' presentan jerarquías o estructuras anidadas. Será necesario realizar un análisis más detallado de estas dos columnas para determinar si es conveniente separarlas o mantener los valores tal como están."
   ]
  },
  {
   "cell_type": "markdown",
   "metadata": {},
   "source": [
    "**4.5.Clasificación de variables y revisión de valores faltantes**"
   ]
  },
  {
   "cell_type": "code",
   "execution_count": 21,
   "metadata": {},
   "outputs": [
    {
     "data": {
      "text/plain": [
       "<bound method DataFrame.info of       anime_id                              name  \\\n",
       "0        32281                    Kimi no Na wa.   \n",
       "1         5114  Fullmetal Alchemist: Brotherhood   \n",
       "2        28977                         GintamaÂ°   \n",
       "3         9253                       Steins;Gate   \n",
       "4        11061            Hunter x Hunter (2011)   \n",
       "...        ...                               ...   \n",
       "7876      2592                            Kimera   \n",
       "7877       730          Houkago no Shokuinshitsu   \n",
       "7878     30663                    Docchi mo Maid   \n",
       "7879     34382                            Citrus   \n",
       "7880     33654                Hitorijime My Hero   \n",
       "\n",
       "                                                  genre   type episodes  \\\n",
       "0                  Drama, Romance, School, Supernatural  Movie        1   \n",
       "1     Action, Adventure, Drama, Fantasy, Magic, Mili...     TV       64   \n",
       "2     Action, Comedy, Historical, Parody, Samurai, S...     TV       51   \n",
       "3                                      Sci-Fi, Thriller     TV       24   \n",
       "4               Action, Adventure, Shounen, Super Power     TV      148   \n",
       "...                                                 ...    ...      ...   \n",
       "7876  Action, Horror, Sci-Fi, Supernatural, Vampire,...    OVA        1   \n",
       "7877                               Drama, Romance, Yaoi    OVA        2   \n",
       "7878                        Action, Comedy, Ecchi, Yuri    ONA        1   \n",
       "7879                       Drama, Romance, School, Yuri    NaN  Unknown   \n",
       "7880                                               Yaoi    NaN  Unknown   \n",
       "\n",
       "      rating  members               nombre_normalizado  \\\n",
       "0       9.37   200630                   kimi no na wa.   \n",
       "1       9.26   793665  fullmetal alchemist brotherhood   \n",
       "2       9.25   114262                         gintamaa   \n",
       "3       9.17   673572                       steinsgate   \n",
       "4       9.13   425855             hunter x hunter 2011   \n",
       "...      ...      ...                              ...   \n",
       "7876    5.29     3374                           kimera   \n",
       "7877    5.23     4550         houkago no shokuinshitsu   \n",
       "7878    5.15      223                   docchi mo maid   \n",
       "7879     NaN     2459                           citrus   \n",
       "7880     NaN     1574               hitorijime my hero   \n",
       "\n",
       "                                 Title   Rank   Type Episodes  \\\n",
       "0                       Kimi no Na wa.     27  Movie        1   \n",
       "1     Fullmetal Alchemist: Brotherhood      1     TV       64   \n",
       "2                            GintamaÂ°      4     TV       51   \n",
       "3                          Steins;Gate      2     TV       24   \n",
       "4               Hunter x Hunter (2011)     10     TV      148   \n",
       "...                                ...    ...    ...      ...   \n",
       "7876                            Kimera  11880    OVA        1   \n",
       "7877          Houkago no Shokuinshitsu  11962    OVA        2   \n",
       "7878                    Docchi mo Maid  12700    ONA        1   \n",
       "7879                            Citrus   6632     TV       12   \n",
       "7880                Hitorijime My Hero   2562     TV       12   \n",
       "\n",
       "                    Aired  Members  \\\n",
       "0     Aug 2016 - Aug 2016  2608836   \n",
       "1     Apr 2009 - Jul 2010  3188280   \n",
       "2     Apr 2015 - Mar 2016   598624   \n",
       "3     Apr 2011 - Sep 2011  2449954   \n",
       "4     Oct 2011 - Sep 2014  2669186   \n",
       "...                   ...      ...   \n",
       "7876  Jul 1996 - Jul 1996     7769   \n",
       "7877  Apr 1994 - Jan 1995     7604   \n",
       "7878          2004 - 2004     2386   \n",
       "7879  Jan 2018 - Mar 2018   497244   \n",
       "7880  Jul 2017 - Sep 2017   161833   \n",
       "\n",
       "                                               page_url  \\\n",
       "0     https://myanimelist.net/anime/32281/Kimi_no_Na_wa   \n",
       "1     https://myanimelist.net/anime/5114/Fullmetal_A...   \n",
       "2         https://myanimelist.net/anime/28977/GintamaÂ°   \n",
       "3        https://myanimelist.net/anime/9253/Steins_Gate   \n",
       "4     https://myanimelist.net/anime/11061/Hunter_x_H...   \n",
       "...                                                 ...   \n",
       "7876          https://myanimelist.net/anime/2592/Kimera   \n",
       "7877  https://myanimelist.net/anime/730/Houkago_no_S...   \n",
       "7878  https://myanimelist.net/anime/30663/Docchi_mo_...   \n",
       "7879         https://myanimelist.net/anime/34382/Citrus   \n",
       "7880  https://myanimelist.net/anime/33654/Hitorijime...   \n",
       "\n",
       "                                              image_url  Score  \n",
       "0     https://cdn.myanimelist.net/r/100x140/images/a...   8.85  \n",
       "1     https://cdn.myanimelist.net/r/100x140/images/a...   9.10  \n",
       "2     https://cdn.myanimelist.net/r/100x140/images/a...   9.06  \n",
       "3     https://cdn.myanimelist.net/r/100x140/images/a...   9.07  \n",
       "4     https://cdn.myanimelist.net/r/100x140/images/a...   9.04  \n",
       "...                                                 ...    ...  \n",
       "7876  https://cdn.myanimelist.net/r/100x140/images/a...   5.09  \n",
       "7877  https://cdn.myanimelist.net/r/100x140/images/a...   5.04  \n",
       "7878  https://cdn.myanimelist.net/r/100x140/images/a...   4.00  \n",
       "7879  https://cdn.myanimelist.net/r/100x140/images/a...   6.45  \n",
       "7880  https://cdn.myanimelist.net/r/100x140/images/a...   7.30  \n",
       "\n",
       "[7881 rows x 17 columns]>"
      ]
     },
     "execution_count": 21,
     "metadata": {},
     "output_type": "execute_result"
    }
   ],
   "source": [
    "df_unido.info"
   ]
  },
  {
   "cell_type": "code",
   "execution_count": 22,
   "metadata": {},
   "outputs": [
    {
     "data": {
      "text/plain": [
       "anime_id                0\n",
       "name                    0\n",
       "genre                  41\n",
       "type                   12\n",
       "episodes                0\n",
       "rating                131\n",
       "members                 0\n",
       "nombre_normalizado      0\n",
       "Title                   0\n",
       "Rank                    0\n",
       "Type                    0\n",
       "Episodes                0\n",
       "Aired                   0\n",
       "Members                 0\n",
       "page_url                0\n",
       "image_url               0\n",
       "Score                   0\n",
       "dtype: int64"
      ]
     },
     "execution_count": 22,
     "metadata": {},
     "output_type": "execute_result"
    }
   ],
   "source": [
    "df_unido.isnull().sum()"
   ]
  },
  {
   "cell_type": "code",
   "execution_count": 23,
   "metadata": {},
   "outputs": [
    {
     "data": {
      "text/plain": [
       "Index(['anime_id', 'name', 'genre', 'type', 'episodes', 'rating', 'members',\n",
       "       'nombre_normalizado', 'Title', 'Rank', 'Type', 'Episodes', 'Aired',\n",
       "       'Members', 'page_url', 'image_url', 'Score'],\n",
       "      dtype='object')"
      ]
     },
     "execution_count": 23,
     "metadata": {},
     "output_type": "execute_result"
    }
   ],
   "source": [
    "df_unido.columns"
   ]
  },
  {
   "cell_type": "markdown",
   "metadata": {},
   "source": [
    "### Conclusiones : \n",
    "\n",
    "  - Popularidad según calificaciones y miembros:\n",
    "\n",
    "Las calificaciones más altas (por ejemplo, 9.37, 9.26) corresponden a títulos populares con grandes cantidades de miembros (más de 2 millones). Esto indica una correlación entre la popularidad y la calificación.\n",
    "\n",
    "  - Relación con fechas de emisión:\n",
    "\n",
    "Las fechas de emisión (Aired) están disponibles en un rango que abarca décadas. Esto permite explorar cómo la época de estreno puede influir en el éxito de un anime.\n",
    "\n",
    "  - Información duplicada o redundante:\n",
    "\n",
    "Columnas como Title/name, episodes/Episodes y Type/type parecen contener datos similares, lo que podría revisarse para evitar redundancia.\n",
    "\n",
    "  - Datos faltantes:\n",
    "\n",
    "Algunas entradas tienen valores NaN en columnas como rating y episodes. Esto sugiere la necesidad de manejar valores faltantes para evitar problemas en el análisis.\n",
    "\n",
    "  - Posibles áreas de análisis:\n",
    "\n",
    "1. Identificar tendencias en géneros más calificados o con mayor cantidad de miembros.\n",
    "2. Examinar la distribución de animes destacados por temporada o año de estreno.\n",
    "3. Evaluar cómo diferentes tipos de animes (TV, Movie, OVA, ONA) se distribuyen en cuanto a calificaciones y popularidad."
   ]
  },
  {
   "cell_type": "markdown",
   "metadata": {},
   "source": [
    "**4.4.Revisión de duplicados**"
   ]
  },
  {
   "cell_type": "code",
   "execution_count": 24,
   "metadata": {},
   "outputs": [
    {
     "data": {
      "text/plain": [
       "np.int64(0)"
      ]
     },
     "execution_count": 24,
     "metadata": {},
     "output_type": "execute_result"
    }
   ],
   "source": [
    "df_unido.duplicated().sum()"
   ]
  },
  {
   "cell_type": "code",
   "execution_count": 25,
   "metadata": {},
   "outputs": [
    {
     "data": {
      "text/plain": [
       "np.int64(7756)"
      ]
     },
     "execution_count": 25,
     "metadata": {},
     "output_type": "execute_result"
    }
   ],
   "source": [
    "(df_unido['type'] == df_unido['Type']).sum()"
   ]
  },
  {
   "cell_type": "code",
   "execution_count": 26,
   "metadata": {},
   "outputs": [
    {
     "data": {
      "text/plain": [
       "np.int64(7605)"
      ]
     },
     "execution_count": 26,
     "metadata": {},
     "output_type": "execute_result"
    }
   ],
   "source": [
    "(df_unido['episodes'] == df_unido['Episodes']).sum()"
   ]
  },
  {
   "cell_type": "code",
   "execution_count": 27,
   "metadata": {},
   "outputs": [
    {
     "data": {
      "text/plain": [
       "np.int64(164)"
      ]
     },
     "execution_count": 27,
     "metadata": {},
     "output_type": "execute_result"
    }
   ],
   "source": [
    "df_unido['episodes'].value_counts().get('Unknown', 0)"
   ]
  },
  {
   "cell_type": "code",
   "execution_count": 28,
   "metadata": {},
   "outputs": [
    {
     "data": {
      "text/plain": [
       "anime_id                0\n",
       "name                    0\n",
       "genre                   0\n",
       "type                    0\n",
       "episodes              164\n",
       "rating                  0\n",
       "members                 0\n",
       "nombre_normalizado      0\n",
       "Title                   0\n",
       "Rank                    0\n",
       "Type                    1\n",
       "Episodes                0\n",
       "Aired                   0\n",
       "Members                 0\n",
       "page_url                0\n",
       "image_url               0\n",
       "Score                   0\n",
       "dtype: int64"
      ]
     },
     "execution_count": 28,
     "metadata": {},
     "output_type": "execute_result"
    }
   ],
   "source": [
    "(df_unido == 'Unknown').sum()"
   ]
  },
  {
   "cell_type": "code",
   "execution_count": 29,
   "metadata": {},
   "outputs": [
    {
     "data": {
      "text/plain": [
       "array(['Movie', 'TV', 'OVA', 'Special', 'Music', 'ONA', nan], dtype=object)"
      ]
     },
     "execution_count": 29,
     "metadata": {},
     "output_type": "execute_result"
    }
   ],
   "source": [
    "df_unido['type'].unique()"
   ]
  },
  {
   "cell_type": "code",
   "execution_count": 30,
   "metadata": {},
   "outputs": [
    {
     "data": {
      "text/plain": [
       "array(['Movie', 'TV', 'OVA', 'Special', 'ONA', 'Unknown'], dtype=object)"
      ]
     },
     "execution_count": 30,
     "metadata": {},
     "output_type": "execute_result"
    }
   ],
   "source": [
    "df_unido['Type'].unique()"
   ]
  },
  {
   "cell_type": "code",
   "execution_count": 31,
   "metadata": {},
   "outputs": [
    {
     "data": {
      "text/html": [
       "<div>\n",
       "<style scoped>\n",
       "    .dataframe tbody tr th:only-of-type {\n",
       "        vertical-align: middle;\n",
       "    }\n",
       "\n",
       "    .dataframe tbody tr th {\n",
       "        vertical-align: top;\n",
       "    }\n",
       "\n",
       "    .dataframe thead th {\n",
       "        text-align: right;\n",
       "    }\n",
       "</style>\n",
       "<table border=\"1\" class=\"dataframe\">\n",
       "  <thead>\n",
       "    <tr style=\"text-align: right;\">\n",
       "      <th></th>\n",
       "      <th>anime_id</th>\n",
       "      <th>name</th>\n",
       "      <th>genre</th>\n",
       "      <th>type</th>\n",
       "      <th>episodes</th>\n",
       "      <th>rating</th>\n",
       "      <th>members</th>\n",
       "      <th>nombre_normalizado</th>\n",
       "      <th>Title</th>\n",
       "      <th>Rank</th>\n",
       "      <th>Type</th>\n",
       "      <th>Episodes</th>\n",
       "      <th>Aired</th>\n",
       "      <th>Members</th>\n",
       "      <th>page_url</th>\n",
       "      <th>image_url</th>\n",
       "      <th>Score</th>\n",
       "    </tr>\n",
       "  </thead>\n",
       "  <tbody>\n",
       "    <tr>\n",
       "      <th>149</th>\n",
       "      <td>34240</td>\n",
       "      <td>Shelter</td>\n",
       "      <td>Music, Sci-Fi</td>\n",
       "      <td>Music</td>\n",
       "      <td>1</td>\n",
       "      <td>8.38</td>\n",
       "      <td>71136</td>\n",
       "      <td>shelter</td>\n",
       "      <td>Shelter</td>\n",
       "      <td>6105</td>\n",
       "      <td>Movie</td>\n",
       "      <td>1</td>\n",
       "      <td>1980 - 1980</td>\n",
       "      <td>775</td>\n",
       "      <td>https://myanimelist.net/anime/49197/Shelter</td>\n",
       "      <td>https://cdn.myanimelist.net/r/100x140/images/a...</td>\n",
       "      <td>6.55</td>\n",
       "    </tr>\n",
       "    <tr>\n",
       "      <th>4738</th>\n",
       "      <td>21861</td>\n",
       "      <td>Airy Me</td>\n",
       "      <td>Dementia, Drama, Horror, Music</td>\n",
       "      <td>Music</td>\n",
       "      <td>1</td>\n",
       "      <td>6.40</td>\n",
       "      <td>1561</td>\n",
       "      <td>airy me</td>\n",
       "      <td>Airy Me</td>\n",
       "      <td>7473</td>\n",
       "      <td>Movie</td>\n",
       "      <td>1</td>\n",
       "      <td>Jul 2013 - Jul 2013</td>\n",
       "      <td>4964</td>\n",
       "      <td>https://myanimelist.net/anime/21861/Airy_Me</td>\n",
       "      <td>https://cdn.myanimelist.net/r/100x140/images/a...</td>\n",
       "      <td>6.29</td>\n",
       "    </tr>\n",
       "    <tr>\n",
       "      <th>6294</th>\n",
       "      <td>12521</td>\n",
       "      <td>Tentoumushi no Otomurai</td>\n",
       "      <td>Music</td>\n",
       "      <td>Music</td>\n",
       "      <td>1</td>\n",
       "      <td>5.34</td>\n",
       "      <td>309</td>\n",
       "      <td>tentoumushi no otomurai</td>\n",
       "      <td>Tentoumushi no Otomurai</td>\n",
       "      <td>11837</td>\n",
       "      <td>Movie</td>\n",
       "      <td>1</td>\n",
       "      <td>2006 - 2006</td>\n",
       "      <td>668</td>\n",
       "      <td>https://myanimelist.net/anime/12521/Tentoumush...</td>\n",
       "      <td>https://cdn.myanimelist.net/r/100x140/images/a...</td>\n",
       "      <td>5.11</td>\n",
       "    </tr>\n",
       "    <tr>\n",
       "      <th>6635</th>\n",
       "      <td>33220</td>\n",
       "      <td>Natsu no Gero wa Fuyu no Sakana</td>\n",
       "      <td>Dementia, Music</td>\n",
       "      <td>Music</td>\n",
       "      <td>1</td>\n",
       "      <td>4.45</td>\n",
       "      <td>147</td>\n",
       "      <td>natsu no gero wa fuyu no sakana</td>\n",
       "      <td>Natsu no Gero wa Fuyu no Sakana</td>\n",
       "      <td>12714</td>\n",
       "      <td>Movie</td>\n",
       "      <td>1</td>\n",
       "      <td>Apr 2016 - Apr 2016</td>\n",
       "      <td>961</td>\n",
       "      <td>https://myanimelist.net/anime/33220/Natsu_no_G...</td>\n",
       "      <td>https://cdn.myanimelist.net/r/100x140/images/a...</td>\n",
       "      <td>3.83</td>\n",
       "    </tr>\n",
       "    <tr>\n",
       "      <th>6696</th>\n",
       "      <td>30860</td>\n",
       "      <td>Koumon-teki Juuku Ketsujiru Juke</td>\n",
       "      <td>Comedy, Dementia, Music</td>\n",
       "      <td>Music</td>\n",
       "      <td>1</td>\n",
       "      <td>3.78</td>\n",
       "      <td>310</td>\n",
       "      <td>koumonteki juuku ketsujiru juke</td>\n",
       "      <td>Koumon-teki Juuku Ketsujiru Juke</td>\n",
       "      <td>12761</td>\n",
       "      <td>Movie</td>\n",
       "      <td>1</td>\n",
       "      <td>Apr 2013 - Apr 2013</td>\n",
       "      <td>1432</td>\n",
       "      <td>https://myanimelist.net/anime/30860/Koumon-tek...</td>\n",
       "      <td>https://cdn.myanimelist.net/r/100x140/images/a...</td>\n",
       "      <td>3.27</td>\n",
       "    </tr>\n",
       "    <tr>\n",
       "      <th>7211</th>\n",
       "      <td>34286</td>\n",
       "      <td>KiyaKiya</td>\n",
       "      <td>Psychological</td>\n",
       "      <td>Music</td>\n",
       "      <td>1</td>\n",
       "      <td>5.67</td>\n",
       "      <td>26</td>\n",
       "      <td>kiyakiya</td>\n",
       "      <td>KiyaKiya</td>\n",
       "      <td>10048</td>\n",
       "      <td>Movie</td>\n",
       "      <td>1</td>\n",
       "      <td>Jan 2011 - Jan 2011</td>\n",
       "      <td>320</td>\n",
       "      <td>https://myanimelist.net/anime/34286/KiyaKiya</td>\n",
       "      <td>https://cdn.myanimelist.net/r/100x140/images/a...</td>\n",
       "      <td>5.72</td>\n",
       "    </tr>\n",
       "  </tbody>\n",
       "</table>\n",
       "</div>"
      ],
      "text/plain": [
       "      anime_id                              name  \\\n",
       "149      34240                           Shelter   \n",
       "4738     21861                           Airy Me   \n",
       "6294     12521           Tentoumushi no Otomurai   \n",
       "6635     33220   Natsu no Gero wa Fuyu no Sakana   \n",
       "6696     30860  Koumon-teki Juuku Ketsujiru Juke   \n",
       "7211     34286                          KiyaKiya   \n",
       "\n",
       "                               genre   type episodes  rating  members  \\\n",
       "149                    Music, Sci-Fi  Music        1    8.38    71136   \n",
       "4738  Dementia, Drama, Horror, Music  Music        1    6.40     1561   \n",
       "6294                           Music  Music        1    5.34      309   \n",
       "6635                 Dementia, Music  Music        1    4.45      147   \n",
       "6696         Comedy, Dementia, Music  Music        1    3.78      310   \n",
       "7211                   Psychological  Music        1    5.67       26   \n",
       "\n",
       "                   nombre_normalizado                             Title  \\\n",
       "149                           shelter                           Shelter   \n",
       "4738                          airy me                           Airy Me   \n",
       "6294          tentoumushi no otomurai           Tentoumushi no Otomurai   \n",
       "6635  natsu no gero wa fuyu no sakana   Natsu no Gero wa Fuyu no Sakana   \n",
       "6696  koumonteki juuku ketsujiru juke  Koumon-teki Juuku Ketsujiru Juke   \n",
       "7211                         kiyakiya                          KiyaKiya   \n",
       "\n",
       "       Rank   Type Episodes                Aired  Members  \\\n",
       "149    6105  Movie        1          1980 - 1980      775   \n",
       "4738   7473  Movie        1  Jul 2013 - Jul 2013     4964   \n",
       "6294  11837  Movie        1          2006 - 2006      668   \n",
       "6635  12714  Movie        1  Apr 2016 - Apr 2016      961   \n",
       "6696  12761  Movie        1  Apr 2013 - Apr 2013     1432   \n",
       "7211  10048  Movie        1  Jan 2011 - Jan 2011      320   \n",
       "\n",
       "                                               page_url  \\\n",
       "149         https://myanimelist.net/anime/49197/Shelter   \n",
       "4738        https://myanimelist.net/anime/21861/Airy_Me   \n",
       "6294  https://myanimelist.net/anime/12521/Tentoumush...   \n",
       "6635  https://myanimelist.net/anime/33220/Natsu_no_G...   \n",
       "6696  https://myanimelist.net/anime/30860/Koumon-tek...   \n",
       "7211       https://myanimelist.net/anime/34286/KiyaKiya   \n",
       "\n",
       "                                              image_url  Score  \n",
       "149   https://cdn.myanimelist.net/r/100x140/images/a...   6.55  \n",
       "4738  https://cdn.myanimelist.net/r/100x140/images/a...   6.29  \n",
       "6294  https://cdn.myanimelist.net/r/100x140/images/a...   5.11  \n",
       "6635  https://cdn.myanimelist.net/r/100x140/images/a...   3.83  \n",
       "6696  https://cdn.myanimelist.net/r/100x140/images/a...   3.27  \n",
       "7211  https://cdn.myanimelist.net/r/100x140/images/a...   5.72  "
      ]
     },
     "execution_count": 31,
     "metadata": {},
     "output_type": "execute_result"
    }
   ],
   "source": [
    "df_unido[df_unido['type']=='Music']"
   ]
  },
  {
   "cell_type": "code",
   "execution_count": 32,
   "metadata": {},
   "outputs": [
    {
     "data": {
      "text/plain": [
       "dtype('O')"
      ]
     },
     "execution_count": 32,
     "metadata": {},
     "output_type": "execute_result"
    }
   ],
   "source": [
    "df_unido['episodes'].dtype"
   ]
  },
  {
   "cell_type": "code",
   "execution_count": 33,
   "metadata": {},
   "outputs": [
    {
     "data": {
      "text/plain": [
       "array(['1', '64', '51', '24', '148', '110', '201', '25', '22', '10', '75',\n",
       "       '4', '26', '12', '27', '43', '13', '74', '37', '2', '11', '99',\n",
       "       'Unknown', '39', '101', '47', '50', '62', '33', '112', '23', '3',\n",
       "       '94', '14', '15', '203', '77', '8', '291', '6', '102', '96', '38',\n",
       "       '79', '175', '103', '70', '153', '45', '21', '63', '52', '5',\n",
       "       '145', '36', '69', '60', '114', '35', '61', '7', '34', '109', '20',\n",
       "       '9', '49', '366', '97', '48', '78', '358', '155', '113', '54',\n",
       "       '167', '161', '40', '142', '31', '220', '46', '195', '17', '1787',\n",
       "       '73', '147', '127', '16', '19', '178', '150', '76', '53', '124',\n",
       "       '29', '115', '224', '44', '58', '93', '92', '67', '172', '86',\n",
       "       '42', '30', '276', '59', '72', '41', '105', '128', '137', '56',\n",
       "       '104', '55', '65', '243', '193', '180', '91', '192', '66', '18',\n",
       "       '182', '32', '164', '100', '296', '694', '95', '68', '117', '151',\n",
       "       '130', '87', '170', '119', '84', '108', '28', '156', '140', '331',\n",
       "       '300', '510', '200', '88', '1471', '526', '143', '726', '136',\n",
       "       '1818', '237', '1428', '365', '163', '225', '312', '1306', '1565',\n",
       "       '773', '305', '1274', '83', '1006', '141'], dtype=object)"
      ]
     },
     "execution_count": 33,
     "metadata": {},
     "output_type": "execute_result"
    }
   ],
   "source": [
    "# comprobamos si nuestra columna tiene algun otro valor distinto de int:\n",
    "\n",
    "df_unido[~df_unido['episodes'].apply(lambda x: isinstance(x, int))]['episodes'].unique()\n"
   ]
  },
  {
   "cell_type": "code",
   "execution_count": 34,
   "metadata": {},
   "outputs": [
    {
     "data": {
      "text/plain": [
       "array(['1', '64', '51', '24', '148', '110', '201', '25', '22', '10', '75',\n",
       "       '4', '26', '12', '27', '43', '11', '13', '74', '37', '2', '99',\n",
       "       '?', '39', '101', '47', '50', '62', '33', '112', '23', '3', '94',\n",
       "       '14', '15', '203', '77', '8', '291', '6', '102', '96', '38', '79',\n",
       "       '175', '103', '70', '153', '45', '21', '63', '52', '5', '145',\n",
       "       '36', '69', '60', '114', '35', '61', '7', '34', '109', '20', '9',\n",
       "       '49', '366', '97', '48', '78', '500', '358', '155', '113', '67',\n",
       "       '54', '167', '161', '40', '142', '31', '220', '195', '17', '1787',\n",
       "       '73', '147', '127', '46', '16', '19', '178', '150', '76', '53',\n",
       "       '124', '29', '115', '224', '44', '58', '93', '92', '172', '86',\n",
       "       '42', '30', '276', '59', '131', '72', '41', '100', '105', '128',\n",
       "       '137', '56', '104', '55', '65', '243', '193', '32', '180', '91',\n",
       "       '192', '66', '18', '140', '182', '164', '296', '214', '694', '95',\n",
       "       '68', '117', '151', '130', '87', '170', '119', '84', '108', '28',\n",
       "       '156', '331', '300', '510', '200', '373', '88', '1471', '526',\n",
       "       '143', '726', '136', '1818', '139', '227', '1428', '120', '365',\n",
       "       '163', '312', '1306', '1565', '773', '3057', '305', '1274', '83',\n",
       "       '1006', '215'], dtype=object)"
      ]
     },
     "execution_count": 34,
     "metadata": {},
     "output_type": "execute_result"
    }
   ],
   "source": [
    "df_unido[~df_unido['Episodes'].apply(lambda x: isinstance(x, int))]['Episodes'].unique()"
   ]
  },
  {
   "cell_type": "code",
   "execution_count": 35,
   "metadata": {},
   "outputs": [
    {
     "data": {
      "text/plain": [
       "anime_id               0\n",
       "name                   0\n",
       "genre                  0\n",
       "type                   0\n",
       "episodes               0\n",
       "rating                 0\n",
       "members                0\n",
       "nombre_normalizado     0\n",
       "Title                  0\n",
       "Rank                   0\n",
       "Type                   0\n",
       "Episodes              16\n",
       "Aired                  0\n",
       "Members                0\n",
       "page_url               0\n",
       "image_url              0\n",
       "Score                  0\n",
       "dtype: int64"
      ]
     },
     "execution_count": 35,
     "metadata": {},
     "output_type": "execute_result"
    }
   ],
   "source": [
    "(df_unido == '?').sum()"
   ]
  },
  {
   "cell_type": "code",
   "execution_count": 36,
   "metadata": {},
   "outputs": [
    {
     "data": {
      "text/html": [
       "<div>\n",
       "<style scoped>\n",
       "    .dataframe tbody tr th:only-of-type {\n",
       "        vertical-align: middle;\n",
       "    }\n",
       "\n",
       "    .dataframe tbody tr th {\n",
       "        vertical-align: top;\n",
       "    }\n",
       "\n",
       "    .dataframe thead th {\n",
       "        text-align: right;\n",
       "    }\n",
       "</style>\n",
       "<table border=\"1\" class=\"dataframe\">\n",
       "  <thead>\n",
       "    <tr style=\"text-align: right;\">\n",
       "      <th></th>\n",
       "      <th>anime_id</th>\n",
       "      <th>name</th>\n",
       "      <th>genre</th>\n",
       "      <th>type</th>\n",
       "      <th>episodes</th>\n",
       "      <th>rating</th>\n",
       "      <th>members</th>\n",
       "      <th>nombre_normalizado</th>\n",
       "      <th>Title</th>\n",
       "      <th>Rank</th>\n",
       "      <th>Type</th>\n",
       "      <th>Episodes</th>\n",
       "      <th>Aired</th>\n",
       "      <th>Members</th>\n",
       "      <th>page_url</th>\n",
       "      <th>image_url</th>\n",
       "      <th>Score</th>\n",
       "    </tr>\n",
       "  </thead>\n",
       "  <tbody>\n",
       "    <tr>\n",
       "      <th>7501</th>\n",
       "      <td>7398</td>\n",
       "      <td>Sekai Meisaku Douwa</td>\n",
       "      <td>Fantasy</td>\n",
       "      <td>OVA</td>\n",
       "      <td>20</td>\n",
       "      <td>6.49</td>\n",
       "      <td>207</td>\n",
       "      <td>sekai meisaku douwa</td>\n",
       "      <td>Sekai Meisaku Douwa</td>\n",
       "      <td>8611</td>\n",
       "      <td>Unknown</td>\n",
       "      <td>20</td>\n",
       "      <td>Oct 1975 - Feb 1983</td>\n",
       "      <td>735</td>\n",
       "      <td>https://myanimelist.net/anime/7398/Sekai_Meisa...</td>\n",
       "      <td>https://cdn.myanimelist.net/r/100x140/images/a...</td>\n",
       "      <td>6.06</td>\n",
       "    </tr>\n",
       "  </tbody>\n",
       "</table>\n",
       "</div>"
      ],
      "text/plain": [
       "      anime_id                 name    genre type episodes  rating  members  \\\n",
       "7501      7398  Sekai Meisaku Douwa  Fantasy  OVA       20    6.49      207   \n",
       "\n",
       "       nombre_normalizado                Title  Rank     Type Episodes  \\\n",
       "7501  sekai meisaku douwa  Sekai Meisaku Douwa  8611  Unknown       20   \n",
       "\n",
       "                    Aired  Members  \\\n",
       "7501  Oct 1975 - Feb 1983      735   \n",
       "\n",
       "                                               page_url  \\\n",
       "7501  https://myanimelist.net/anime/7398/Sekai_Meisa...   \n",
       "\n",
       "                                              image_url  Score  \n",
       "7501  https://cdn.myanimelist.net/r/100x140/images/a...   6.06  "
      ]
     },
     "execution_count": 36,
     "metadata": {},
     "output_type": "execute_result"
    }
   ],
   "source": [
    "df_unido[df_unido['Type']=='Unknown']"
   ]
  },
  {
   "cell_type": "code",
   "execution_count": 37,
   "metadata": {},
   "outputs": [
    {
     "data": {
      "text/html": [
       "<div>\n",
       "<style scoped>\n",
       "    .dataframe tbody tr th:only-of-type {\n",
       "        vertical-align: middle;\n",
       "    }\n",
       "\n",
       "    .dataframe tbody tr th {\n",
       "        vertical-align: top;\n",
       "    }\n",
       "\n",
       "    .dataframe thead th {\n",
       "        text-align: right;\n",
       "    }\n",
       "</style>\n",
       "<table border=\"1\" class=\"dataframe\">\n",
       "  <thead>\n",
       "    <tr style=\"text-align: right;\">\n",
       "      <th></th>\n",
       "      <th>anime_id</th>\n",
       "      <th>name</th>\n",
       "      <th>genre</th>\n",
       "      <th>type</th>\n",
       "      <th>episodes</th>\n",
       "      <th>rating</th>\n",
       "      <th>members</th>\n",
       "      <th>nombre_normalizado</th>\n",
       "      <th>Title</th>\n",
       "      <th>Rank</th>\n",
       "      <th>Type</th>\n",
       "      <th>Episodes</th>\n",
       "      <th>Aired</th>\n",
       "      <th>Members</th>\n",
       "      <th>page_url</th>\n",
       "      <th>image_url</th>\n",
       "      <th>Score</th>\n",
       "    </tr>\n",
       "  </thead>\n",
       "  <tbody>\n",
       "    <tr>\n",
       "      <th>2680</th>\n",
       "      <td>9874</td>\n",
       "      <td>Touhou Niji Sousaku Doujin Anime: Musou Kakyou</td>\n",
       "      <td>Fantasy, Magic</td>\n",
       "      <td>OVA</td>\n",
       "      <td>2</td>\n",
       "      <td>7.07</td>\n",
       "      <td>18305</td>\n",
       "      <td>touhou niji sousaku doujin anime musou kakyou</td>\n",
       "      <td>Touhou Niji Sousaku Doujin Anime: Musou Kakyou</td>\n",
       "      <td>2621</td>\n",
       "      <td>OVA</td>\n",
       "      <td>?</td>\n",
       "      <td>Dec 2008 -</td>\n",
       "      <td>38585</td>\n",
       "      <td>https://myanimelist.net/anime/9874/Touhou_Niji...</td>\n",
       "      <td>https://cdn.myanimelist.net/r/100x140/images/a...</td>\n",
       "      <td>7.28</td>\n",
       "    </tr>\n",
       "    <tr>\n",
       "      <th>4069</th>\n",
       "      <td>30088</td>\n",
       "      <td>Ryoutei no Aji</td>\n",
       "      <td>Slice of Life</td>\n",
       "      <td>Special</td>\n",
       "      <td>4</td>\n",
       "      <td>6.63</td>\n",
       "      <td>538</td>\n",
       "      <td>ryoutei no aji</td>\n",
       "      <td>Ryoutei no Aji</td>\n",
       "      <td>5419</td>\n",
       "      <td>Special</td>\n",
       "      <td>?</td>\n",
       "      <td>Mar 2014 -</td>\n",
       "      <td>2219</td>\n",
       "      <td>https://myanimelist.net/anime/30088/Ryoutei_no...</td>\n",
       "      <td>https://cdn.myanimelist.net/r/100x140/images/a...</td>\n",
       "      <td>6.69</td>\n",
       "    </tr>\n",
       "  </tbody>\n",
       "</table>\n",
       "</div>"
      ],
      "text/plain": [
       "      anime_id                                            name  \\\n",
       "2680      9874  Touhou Niji Sousaku Doujin Anime: Musou Kakyou   \n",
       "4069     30088                                  Ryoutei no Aji   \n",
       "\n",
       "               genre     type episodes  rating  members  \\\n",
       "2680  Fantasy, Magic      OVA        2    7.07    18305   \n",
       "4069   Slice of Life  Special        4    6.63      538   \n",
       "\n",
       "                                 nombre_normalizado  \\\n",
       "2680  touhou niji sousaku doujin anime musou kakyou   \n",
       "4069                                 ryoutei no aji   \n",
       "\n",
       "                                               Title  Rank     Type Episodes  \\\n",
       "2680  Touhou Niji Sousaku Doujin Anime: Musou Kakyou  2621      OVA        ?   \n",
       "4069                                  Ryoutei no Aji  5419  Special        ?   \n",
       "\n",
       "           Aired  Members                                           page_url  \\\n",
       "2680  Dec 2008 -    38585  https://myanimelist.net/anime/9874/Touhou_Niji...   \n",
       "4069  Mar 2014 -     2219  https://myanimelist.net/anime/30088/Ryoutei_no...   \n",
       "\n",
       "                                              image_url  Score  \n",
       "2680  https://cdn.myanimelist.net/r/100x140/images/a...   7.28  \n",
       "4069  https://cdn.myanimelist.net/r/100x140/images/a...   6.69  "
      ]
     },
     "execution_count": 37,
     "metadata": {},
     "output_type": "execute_result"
    }
   ],
   "source": [
    "df_unido[(df_unido['Episodes']=='?') & (df_unido['episodes']!='Unknown')]"
   ]
  },
  {
   "cell_type": "markdown",
   "metadata": {},
   "source": [
    "- La columna type/Type contiene una lista de elementos en cada fila. Aunque no todas las filas son idénticas, esto se debe a que un anime puede ser categorizado de múltiples formas. En consecuencia, consideramos que estas dos columnas son equivalentes, por lo que eliminaremos una de ellas.\n",
    "\n",
    "- Según el análisis previo, hemos identificado que la columna type presenta 12 valores NaN, mientras que la columna Type contiene un valor Unknown (anume_id :7398 y type: OVA) se rrellenara con la categorización que se le dio en la columna type.\n",
    "\n",
    "- En cuanto a las columnas Episodes/episodes, aunque no todas las filas son idénticas, observamos que una de las columnas tiene más registros que la otra.\n",
    "\n",
    "- El análisis realizado hasta el momento indica que la columna episodes tiene 164 valores Unknown, mientras que la columna Episodes tiene 16 valores ?.En estemomento podemos rellenar 2 de esos 16 valores con valor ? segun la columna episode. anime_id: 9874 episodes: 2 ; anime_id: 30088 episodes: 4.\n",
    "\n",
    "- Con base en este análisis, concluimos que es más eficiente conservar las columnas Type y Episodes, y eliminar las otras dos (type y episodes), debido a la mayor consistencia y relevancia de los datos en las primeras.\n",
    "\n",
    "- También es importante recordar que las columnas name y Title son equivalentes, al igual que la columna nombre_normalizado. Por el momento, eliminaremos la columna name y conservaremos Title y nombre_normalizado, ya que esta última puede resultar más útil en el análisis."
   ]
  },
  {
   "cell_type": "markdown",
   "metadata": {},
   "source": [
    "**Eliminamos las columnas `type`, `episodes` y `name`.**"
   ]
  },
  {
   "cell_type": "code",
   "execution_count": 38,
   "metadata": {},
   "outputs": [],
   "source": [
    "df_unido.drop(['type', 'episodes','name'], axis=1, inplace=True)"
   ]
  },
  {
   "cell_type": "markdown",
   "metadata": {},
   "source": [
    "* Ya vimos que las columnas 'genre' y 'Aired' presentan jerarquías o estructuras anidadas.\n",
    "\n",
    "    - De `Aired` nos interesaria el mes y año de inicio. Por tanto se creara una nueva columna `fecha_ini`.\n",
    "    \n",
    "    - De `gener` nos interesa ver el top y la frecuencia de cada categoria, por tanto se dividira cada categoria por su anime_id.  "
   ]
  },
  {
   "cell_type": "markdown",
   "metadata": {},
   "source": [
    "**Creación de nueva columna `fecha_ini`**"
   ]
  },
  {
   "cell_type": "code",
   "execution_count": null,
   "metadata": {},
   "outputs": [],
   "source": []
  },
  {
   "cell_type": "markdown",
   "metadata": {},
   "source": [
    "**Separación de la da columna `gener`**"
   ]
  },
  {
   "cell_type": "code",
   "execution_count": null,
   "metadata": {},
   "outputs": [],
   "source": []
  },
  {
   "cell_type": "markdown",
   "metadata": {},
   "source": [
    "**4.5.Resumen estadístico general del DataFrame**"
   ]
  },
  {
   "cell_type": "code",
   "execution_count": 39,
   "metadata": {},
   "outputs": [
    {
     "data": {
      "text/html": [
       "<div>\n",
       "<style scoped>\n",
       "    .dataframe tbody tr th:only-of-type {\n",
       "        vertical-align: middle;\n",
       "    }\n",
       "\n",
       "    .dataframe tbody tr th {\n",
       "        vertical-align: top;\n",
       "    }\n",
       "\n",
       "    .dataframe thead th {\n",
       "        text-align: right;\n",
       "    }\n",
       "</style>\n",
       "<table border=\"1\" class=\"dataframe\">\n",
       "  <thead>\n",
       "    <tr style=\"text-align: right;\">\n",
       "      <th></th>\n",
       "      <th>anime_id</th>\n",
       "      <th>rating</th>\n",
       "      <th>members</th>\n",
       "      <th>Rank</th>\n",
       "      <th>Members</th>\n",
       "      <th>Score</th>\n",
       "    </tr>\n",
       "  </thead>\n",
       "  <tbody>\n",
       "    <tr>\n",
       "      <th>count</th>\n",
       "      <td>7881.00</td>\n",
       "      <td>7750.00</td>\n",
       "      <td>7881.00</td>\n",
       "      <td>7881.00</td>\n",
       "      <td>7881.00</td>\n",
       "      <td>7881.00</td>\n",
       "    </tr>\n",
       "    <tr>\n",
       "      <th>mean</th>\n",
       "      <td>12261.84</td>\n",
       "      <td>6.64</td>\n",
       "      <td>25308.21</td>\n",
       "      <td>6467.24</td>\n",
       "      <td>73544.52</td>\n",
       "      <td>6.45</td>\n",
       "    </tr>\n",
       "    <tr>\n",
       "      <th>std</th>\n",
       "      <td>11067.80</td>\n",
       "      <td>0.98</td>\n",
       "      <td>65990.46</td>\n",
       "      <td>3695.67</td>\n",
       "      <td>232754.91</td>\n",
       "      <td>0.96</td>\n",
       "    </tr>\n",
       "    <tr>\n",
       "      <th>min</th>\n",
       "      <td>1.00</td>\n",
       "      <td>2.00</td>\n",
       "      <td>22.00</td>\n",
       "      <td>1.00</td>\n",
       "      <td>247.00</td>\n",
       "      <td>1.85</td>\n",
       "    </tr>\n",
       "    <tr>\n",
       "      <th>25%</th>\n",
       "      <td>2649.00</td>\n",
       "      <td>6.12</td>\n",
       "      <td>486.00</td>\n",
       "      <td>3286.00</td>\n",
       "      <td>1510.00</td>\n",
       "      <td>5.83</td>\n",
       "    </tr>\n",
       "    <tr>\n",
       "      <th>50%</th>\n",
       "      <td>8302.00</td>\n",
       "      <td>6.73</td>\n",
       "      <td>2740.00</td>\n",
       "      <td>6420.00</td>\n",
       "      <td>6488.00</td>\n",
       "      <td>6.50</td>\n",
       "    </tr>\n",
       "    <tr>\n",
       "      <th>75%</th>\n",
       "      <td>21431.00</td>\n",
       "      <td>7.32</td>\n",
       "      <td>17378.00</td>\n",
       "      <td>9626.00</td>\n",
       "      <td>38274.00</td>\n",
       "      <td>7.16</td>\n",
       "    </tr>\n",
       "    <tr>\n",
       "      <th>max</th>\n",
       "      <td>34525.00</td>\n",
       "      <td>9.50</td>\n",
       "      <td>1013917.00</td>\n",
       "      <td>12788.00</td>\n",
       "      <td>3759013.00</td>\n",
       "      <td>9.10</td>\n",
       "    </tr>\n",
       "  </tbody>\n",
       "</table>\n",
       "</div>"
      ],
      "text/plain": [
       "       anime_id   rating     members      Rank     Members    Score\n",
       "count   7881.00  7750.00     7881.00   7881.00     7881.00  7881.00\n",
       "mean   12261.84     6.64    25308.21   6467.24    73544.52     6.45\n",
       "std    11067.80     0.98    65990.46   3695.67   232754.91     0.96\n",
       "min        1.00     2.00       22.00      1.00      247.00     1.85\n",
       "25%     2649.00     6.12      486.00   3286.00     1510.00     5.83\n",
       "50%     8302.00     6.73     2740.00   6420.00     6488.00     6.50\n",
       "75%    21431.00     7.32    17378.00   9626.00    38274.00     7.16\n",
       "max    34525.00     9.50  1013917.00  12788.00  3759013.00     9.10"
      ]
     },
     "execution_count": 39,
     "metadata": {},
     "output_type": "execute_result"
    }
   ],
   "source": [
    "df_unido.describe(exclude='object').round(2)"
   ]
  },
  {
   "cell_type": "code",
   "execution_count": 40,
   "metadata": {},
   "outputs": [
    {
     "data": {
      "text/html": [
       "<div>\n",
       "<style scoped>\n",
       "    .dataframe tbody tr th:only-of-type {\n",
       "        vertical-align: middle;\n",
       "    }\n",
       "\n",
       "    .dataframe tbody tr th {\n",
       "        vertical-align: top;\n",
       "    }\n",
       "\n",
       "    .dataframe thead th {\n",
       "        text-align: right;\n",
       "    }\n",
       "</style>\n",
       "<table border=\"1\" class=\"dataframe\">\n",
       "  <thead>\n",
       "    <tr style=\"text-align: right;\">\n",
       "      <th></th>\n",
       "      <th>genre</th>\n",
       "      <th>nombre_normalizado</th>\n",
       "      <th>Title</th>\n",
       "      <th>Type</th>\n",
       "      <th>Episodes</th>\n",
       "      <th>Aired</th>\n",
       "      <th>page_url</th>\n",
       "      <th>image_url</th>\n",
       "    </tr>\n",
       "  </thead>\n",
       "  <tbody>\n",
       "    <tr>\n",
       "      <th>count</th>\n",
       "      <td>7840</td>\n",
       "      <td>7881</td>\n",
       "      <td>7881</td>\n",
       "      <td>7881</td>\n",
       "      <td>7881</td>\n",
       "      <td>7881</td>\n",
       "      <td>7881</td>\n",
       "      <td>7881</td>\n",
       "    </tr>\n",
       "    <tr>\n",
       "      <th>unique</th>\n",
       "      <td>2728</td>\n",
       "      <td>7866</td>\n",
       "      <td>7871</td>\n",
       "      <td>6</td>\n",
       "      <td>174</td>\n",
       "      <td>2791</td>\n",
       "      <td>7871</td>\n",
       "      <td>7868</td>\n",
       "    </tr>\n",
       "    <tr>\n",
       "      <th>top</th>\n",
       "      <td>Comedy</td>\n",
       "      <td>nisekoi ova</td>\n",
       "      <td>Nisekoi OVA</td>\n",
       "      <td>TV</td>\n",
       "      <td>1</td>\n",
       "      <td>Oct 2016 - Dec 2016</td>\n",
       "      <td>https://myanimelist.net/anime/24227/Nisekoi_OVA</td>\n",
       "      <td>https://cdn.myanimelist.net/r/100x140/images/q...</td>\n",
       "    </tr>\n",
       "    <tr>\n",
       "      <th>freq</th>\n",
       "      <td>311</td>\n",
       "      <td>4</td>\n",
       "      <td>2</td>\n",
       "      <td>3082</td>\n",
       "      <td>3309</td>\n",
       "      <td>47</td>\n",
       "      <td>2</td>\n",
       "      <td>4</td>\n",
       "    </tr>\n",
       "  </tbody>\n",
       "</table>\n",
       "</div>"
      ],
      "text/plain": [
       "         genre nombre_normalizado        Title  Type Episodes  \\\n",
       "count     7840               7881         7881  7881     7881   \n",
       "unique    2728               7866         7871     6      174   \n",
       "top     Comedy        nisekoi ova  Nisekoi OVA    TV        1   \n",
       "freq       311                  4            2  3082     3309   \n",
       "\n",
       "                      Aired                                         page_url  \\\n",
       "count                  7881                                             7881   \n",
       "unique                 2791                                             7871   \n",
       "top     Oct 2016 - Dec 2016  https://myanimelist.net/anime/24227/Nisekoi_OVA   \n",
       "freq                     47                                                2   \n",
       "\n",
       "                                                image_url  \n",
       "count                                                7881  \n",
       "unique                                               7868  \n",
       "top     https://cdn.myanimelist.net/r/100x140/images/q...  \n",
       "freq                                                    4  "
      ]
     },
     "execution_count": 40,
     "metadata": {},
     "output_type": "execute_result"
    }
   ],
   "source": [
    "df_unido.describe(include='object')"
   ]
  },
  {
   "cell_type": "markdown",
   "metadata": {},
   "source": [
    "**Titul**\n",
    "\n",
    "En esta primera exploración observamos lo siguiente:\n",
    "\n",
    "\n",
    "\n",
    "* members/Members: Alta dispersión (std = 65,990.46/73,544.52), indicando gran variación entre animes populares y menos conocidos.\n",
    "* Score: La mayoría de los animes tienen puntuaciones entre 5.83 y 7.16 (rango intercuartil).\n",
    "* El ranking y las puntuaciones parecen estár correlacionados (los animes mejor calificados tienden a tener mejor ranking).\n",
    "\n",
    "- Dado que la columna `genre` es una lista de los generos, habra que volver ha hacer el resumen estadistico y volver a comprobar tales resultados.\n",
    "\n",
    "* El género más común es \"Comedy\".\n",
    "* El tipo más común de anime es \"TV\", y muchos tienen un solo episodio, lo que probablemente sean OVAs, películas o especiales.\n",
    "* La base de datos está bien completada, con solo pequeños datos faltantes en genre.\n"
   ]
  },
  {
   "cell_type": "markdown",
   "metadata": {},
   "source": [
    "### **5.Estudio de las variables**"
   ]
  },
  {
   "cell_type": "markdown",
   "metadata": {},
   "source": [
    "**5.1.Explicación de las variables**"
   ]
  },
  {
   "cell_type": "code",
   "execution_count": 41,
   "metadata": {},
   "outputs": [
    {
     "data": {
      "text/plain": [
       "Index(['anime_id', 'genre', 'rating', 'members', 'nombre_normalizado', 'Title',\n",
       "       'Rank', 'Type', 'Episodes', 'Aired', 'Members', 'page_url', 'image_url',\n",
       "       'Score'],\n",
       "      dtype='object')"
      ]
     },
     "execution_count": 41,
     "metadata": {},
     "output_type": "execute_result"
    }
   ],
   "source": [
    "df_unido.columns"
   ]
  },
  {
   "cell_type": "markdown",
   "metadata": {},
   "source": [
    "**4.6.Descripción general de los datos**\n",
    "\n",
    "anime_id : ID único de myanimelist.net que identifica a un anime.\n",
    "\n",
    "Género : Lista de géneros separados por comas para este anime.\n",
    "\n",
    "Calificación : Calificación promedio de 10 para este anime.\n",
    "\n",
    "Miembros : Número de miembros de la comunidad que están en el \"Grupo\" de este anime.\n",
    "\n",
    "Título: Nombre del anime/manga\n",
    "\n",
    "Rango: Clasificación del anime/manga\n",
    "\n",
    "Tipo: Categoría de anime/manga, por ejemplo, One-shot, Novela ligera, etc\n",
    "\n",
    "Episodios (anime): Número de episodios del anime\n",
    "\n",
    "Volúmenes(manga): Número de volúmenes del manga\n",
    "\n",
    "Emisión(anime): Fecha de emisión de un anime\n",
    "\n",
    "Publicado (manga): Fecha de publicación de un manga\n",
    "\n",
    "Miembros: Número de miembros que han visto/leído el anime/manga\n",
    "\n",
    "page_url: El enlace URL a la página del anime/manga en particular\n",
    "\n",
    "image_url: El enlace URL a la imagen de portada del anime/manga en particular\n",
    "\n",
    "Puntuación: Puntuación/puntuación media de los usuarios del anime/manga"
   ]
  },
  {
   "cell_type": "code",
   "execution_count": 52,
   "metadata": {},
   "outputs": [
    {
     "data": {
      "text/plain": [
       "np.float64(9.5)"
      ]
     },
     "execution_count": 52,
     "metadata": {},
     "output_type": "execute_result"
    }
   ],
   "source": [
    "df_unido['rating'].max()"
   ]
  },
  {
   "cell_type": "code",
   "execution_count": 54,
   "metadata": {},
   "outputs": [
    {
     "data": {
      "text/html": [
       "<div>\n",
       "<style scoped>\n",
       "    .dataframe tbody tr th:only-of-type {\n",
       "        vertical-align: middle;\n",
       "    }\n",
       "\n",
       "    .dataframe tbody tr th {\n",
       "        vertical-align: top;\n",
       "    }\n",
       "\n",
       "    .dataframe thead th {\n",
       "        text-align: right;\n",
       "    }\n",
       "</style>\n",
       "<table border=\"1\" class=\"dataframe\">\n",
       "  <thead>\n",
       "    <tr style=\"text-align: right;\">\n",
       "      <th></th>\n",
       "      <th>anime_id</th>\n",
       "      <th>genre</th>\n",
       "      <th>rating</th>\n",
       "      <th>members</th>\n",
       "      <th>nombre_normalizado</th>\n",
       "      <th>Title</th>\n",
       "      <th>Rank</th>\n",
       "      <th>Type</th>\n",
       "      <th>Episodes</th>\n",
       "      <th>Aired</th>\n",
       "      <th>Members</th>\n",
       "      <th>page_url</th>\n",
       "      <th>image_url</th>\n",
       "      <th>Score</th>\n",
       "    </tr>\n",
       "  </thead>\n",
       "  <tbody>\n",
       "    <tr>\n",
       "      <th>7326</th>\n",
       "      <td>23005</td>\n",
       "      <td>Slice of Life</td>\n",
       "      <td>9.5</td>\n",
       "      <td>62</td>\n",
       "      <td>mogura no motoro</td>\n",
       "      <td>Mogura no Motoro</td>\n",
       "      <td>10618</td>\n",
       "      <td>Movie</td>\n",
       "      <td>1</td>\n",
       "      <td>Jul 1962 - Jul 1962</td>\n",
       "      <td>466</td>\n",
       "      <td>https://myanimelist.net/anime/23005/Mogura_no_...</td>\n",
       "      <td>https://cdn.myanimelist.net/r/100x140/images/a...</td>\n",
       "      <td>5.56</td>\n",
       "    </tr>\n",
       "  </tbody>\n",
       "</table>\n",
       "</div>"
      ],
      "text/plain": [
       "      anime_id          genre  rating  members nombre_normalizado  \\\n",
       "7326     23005  Slice of Life     9.5       62   mogura no motoro   \n",
       "\n",
       "                 Title   Rank   Type Episodes                Aired  Members  \\\n",
       "7326  Mogura no Motoro  10618  Movie        1  Jul 1962 - Jul 1962      466   \n",
       "\n",
       "                                               page_url  \\\n",
       "7326  https://myanimelist.net/anime/23005/Mogura_no_...   \n",
       "\n",
       "                                              image_url  Score  \n",
       "7326  https://cdn.myanimelist.net/r/100x140/images/a...   5.56  "
      ]
     },
     "execution_count": 54,
     "metadata": {},
     "output_type": "execute_result"
    }
   ],
   "source": [
    "df_unido[df_unido['rating']==9.5]"
   ]
  },
  {
   "cell_type": "code",
   "execution_count": 42,
   "metadata": {},
   "outputs": [
    {
     "data": {
      "text/plain": [
       "np.float64(9.1)"
      ]
     },
     "execution_count": 42,
     "metadata": {},
     "output_type": "execute_result"
    }
   ],
   "source": [
    "df_unido['Score'].max()"
   ]
  },
  {
   "cell_type": "code",
   "execution_count": 43,
   "metadata": {},
   "outputs": [
    {
     "data": {
      "text/html": [
       "<div>\n",
       "<style scoped>\n",
       "    .dataframe tbody tr th:only-of-type {\n",
       "        vertical-align: middle;\n",
       "    }\n",
       "\n",
       "    .dataframe tbody tr th {\n",
       "        vertical-align: top;\n",
       "    }\n",
       "\n",
       "    .dataframe thead th {\n",
       "        text-align: right;\n",
       "    }\n",
       "</style>\n",
       "<table border=\"1\" class=\"dataframe\">\n",
       "  <thead>\n",
       "    <tr style=\"text-align: right;\">\n",
       "      <th></th>\n",
       "      <th>anime_id</th>\n",
       "      <th>genre</th>\n",
       "      <th>rating</th>\n",
       "      <th>members</th>\n",
       "      <th>nombre_normalizado</th>\n",
       "      <th>Title</th>\n",
       "      <th>Rank</th>\n",
       "      <th>Type</th>\n",
       "      <th>Episodes</th>\n",
       "      <th>Aired</th>\n",
       "      <th>Members</th>\n",
       "      <th>page_url</th>\n",
       "      <th>image_url</th>\n",
       "      <th>Score</th>\n",
       "    </tr>\n",
       "  </thead>\n",
       "  <tbody>\n",
       "    <tr>\n",
       "      <th>1</th>\n",
       "      <td>5114</td>\n",
       "      <td>Action, Adventure, Drama, Fantasy, Magic, Mili...</td>\n",
       "      <td>9.26</td>\n",
       "      <td>793665</td>\n",
       "      <td>fullmetal alchemist brotherhood</td>\n",
       "      <td>Fullmetal Alchemist: Brotherhood</td>\n",
       "      <td>1</td>\n",
       "      <td>TV</td>\n",
       "      <td>64</td>\n",
       "      <td>Apr 2009 - Jul 2010</td>\n",
       "      <td>3188280</td>\n",
       "      <td>https://myanimelist.net/anime/5114/Fullmetal_A...</td>\n",
       "      <td>https://cdn.myanimelist.net/r/100x140/images/a...</td>\n",
       "      <td>9.1</td>\n",
       "    </tr>\n",
       "  </tbody>\n",
       "</table>\n",
       "</div>"
      ],
      "text/plain": [
       "   anime_id                                              genre  rating  \\\n",
       "1      5114  Action, Adventure, Drama, Fantasy, Magic, Mili...    9.26   \n",
       "\n",
       "   members               nombre_normalizado                             Title  \\\n",
       "1   793665  fullmetal alchemist brotherhood  Fullmetal Alchemist: Brotherhood   \n",
       "\n",
       "   Rank Type Episodes                Aired  Members  \\\n",
       "1     1   TV       64  Apr 2009 - Jul 2010  3188280   \n",
       "\n",
       "                                            page_url  \\\n",
       "1  https://myanimelist.net/anime/5114/Fullmetal_A...   \n",
       "\n",
       "                                           image_url  Score  \n",
       "1  https://cdn.myanimelist.net/r/100x140/images/a...    9.1  "
      ]
     },
     "execution_count": 43,
     "metadata": {},
     "output_type": "execute_result"
    }
   ],
   "source": [
    "df_unido[df_unido['Score']==9.1]"
   ]
  },
  {
   "cell_type": "code",
   "execution_count": 44,
   "metadata": {},
   "outputs": [
    {
     "data": {
      "text/plain": [
       "np.int64(1013917)"
      ]
     },
     "execution_count": 44,
     "metadata": {},
     "output_type": "execute_result"
    }
   ],
   "source": [
    "df_unido['members'].max()"
   ]
  },
  {
   "cell_type": "code",
   "execution_count": 45,
   "metadata": {},
   "outputs": [
    {
     "data": {
      "text/html": [
       "<div>\n",
       "<style scoped>\n",
       "    .dataframe tbody tr th:only-of-type {\n",
       "        vertical-align: middle;\n",
       "    }\n",
       "\n",
       "    .dataframe tbody tr th {\n",
       "        vertical-align: top;\n",
       "    }\n",
       "\n",
       "    .dataframe thead th {\n",
       "        text-align: right;\n",
       "    }\n",
       "</style>\n",
       "<table border=\"1\" class=\"dataframe\">\n",
       "  <thead>\n",
       "    <tr style=\"text-align: right;\">\n",
       "      <th></th>\n",
       "      <th>anime_id</th>\n",
       "      <th>genre</th>\n",
       "      <th>rating</th>\n",
       "      <th>members</th>\n",
       "      <th>nombre_normalizado</th>\n",
       "      <th>Title</th>\n",
       "      <th>Rank</th>\n",
       "      <th>Type</th>\n",
       "      <th>Episodes</th>\n",
       "      <th>Aired</th>\n",
       "      <th>Members</th>\n",
       "      <th>page_url</th>\n",
       "      <th>image_url</th>\n",
       "      <th>Score</th>\n",
       "    </tr>\n",
       "  </thead>\n",
       "  <tbody>\n",
       "    <tr>\n",
       "      <th>36</th>\n",
       "      <td>1535</td>\n",
       "      <td>Mystery, Police, Psychological, Supernatural, ...</td>\n",
       "      <td>8.71</td>\n",
       "      <td>1013917</td>\n",
       "      <td>death note</td>\n",
       "      <td>Death Note</td>\n",
       "      <td>79</td>\n",
       "      <td>TV</td>\n",
       "      <td>37</td>\n",
       "      <td>Oct 2006 - Jun 2007</td>\n",
       "      <td>3727021</td>\n",
       "      <td>https://myanimelist.net/anime/1535/Death_Note</td>\n",
       "      <td>https://cdn.myanimelist.net/r/100x140/images/a...</td>\n",
       "      <td>8.62</td>\n",
       "    </tr>\n",
       "  </tbody>\n",
       "</table>\n",
       "</div>"
      ],
      "text/plain": [
       "    anime_id                                              genre  rating  \\\n",
       "36      1535  Mystery, Police, Psychological, Supernatural, ...    8.71   \n",
       "\n",
       "    members nombre_normalizado       Title  Rank Type Episodes  \\\n",
       "36  1013917         death note  Death Note    79   TV       37   \n",
       "\n",
       "                  Aired  Members  \\\n",
       "36  Oct 2006 - Jun 2007  3727021   \n",
       "\n",
       "                                         page_url  \\\n",
       "36  https://myanimelist.net/anime/1535/Death_Note   \n",
       "\n",
       "                                            image_url  Score  \n",
       "36  https://cdn.myanimelist.net/r/100x140/images/a...   8.62  "
      ]
     },
     "execution_count": 45,
     "metadata": {},
     "output_type": "execute_result"
    }
   ],
   "source": [
    "df_unido[df_unido['members']==1013917]"
   ]
  },
  {
   "cell_type": "code",
   "execution_count": 49,
   "metadata": {},
   "outputs": [
    {
     "data": {
      "text/plain": [
       "np.int64(3759013)"
      ]
     },
     "execution_count": 49,
     "metadata": {},
     "output_type": "execute_result"
    }
   ],
   "source": [
    "df_unido['Members'].max()"
   ]
  },
  {
   "cell_type": "code",
   "execution_count": 47,
   "metadata": {},
   "outputs": [
    {
     "data": {
      "text/html": [
       "<div>\n",
       "<style scoped>\n",
       "    .dataframe tbody tr th:only-of-type {\n",
       "        vertical-align: middle;\n",
       "    }\n",
       "\n",
       "    .dataframe tbody tr th {\n",
       "        vertical-align: top;\n",
       "    }\n",
       "\n",
       "    .dataframe thead th {\n",
       "        text-align: right;\n",
       "    }\n",
       "</style>\n",
       "<table border=\"1\" class=\"dataframe\">\n",
       "  <thead>\n",
       "    <tr style=\"text-align: right;\">\n",
       "      <th></th>\n",
       "      <th>anime_id</th>\n",
       "      <th>genre</th>\n",
       "      <th>rating</th>\n",
       "      <th>members</th>\n",
       "      <th>nombre_normalizado</th>\n",
       "      <th>Title</th>\n",
       "      <th>Rank</th>\n",
       "      <th>Type</th>\n",
       "      <th>Episodes</th>\n",
       "      <th>Aired</th>\n",
       "      <th>Members</th>\n",
       "      <th>page_url</th>\n",
       "      <th>image_url</th>\n",
       "      <th>Score</th>\n",
       "    </tr>\n",
       "  </thead>\n",
       "  <tbody>\n",
       "    <tr>\n",
       "      <th>72</th>\n",
       "      <td>16498</td>\n",
       "      <td>Action, Drama, Fantasy, Shounen, Super Power</td>\n",
       "      <td>8.54</td>\n",
       "      <td>896229</td>\n",
       "      <td>shingeki no kyojin</td>\n",
       "      <td>Shingeki no Kyojin</td>\n",
       "      <td>107</td>\n",
       "      <td>TV</td>\n",
       "      <td>25</td>\n",
       "      <td>Apr 2013 - Sep 2013</td>\n",
       "      <td>3759013</td>\n",
       "      <td>https://myanimelist.net/anime/16498/Shingeki_n...</td>\n",
       "      <td>https://cdn.myanimelist.net/r/100x140/images/a...</td>\n",
       "      <td>8.54</td>\n",
       "    </tr>\n",
       "  </tbody>\n",
       "</table>\n",
       "</div>"
      ],
      "text/plain": [
       "    anime_id                                         genre  rating  members  \\\n",
       "72     16498  Action, Drama, Fantasy, Shounen, Super Power    8.54   896229   \n",
       "\n",
       "    nombre_normalizado               Title  Rank Type Episodes  \\\n",
       "72  shingeki no kyojin  Shingeki no Kyojin   107   TV       25   \n",
       "\n",
       "                  Aired  Members  \\\n",
       "72  Apr 2013 - Sep 2013  3759013   \n",
       "\n",
       "                                             page_url  \\\n",
       "72  https://myanimelist.net/anime/16498/Shingeki_n...   \n",
       "\n",
       "                                            image_url  Score  \n",
       "72  https://cdn.myanimelist.net/r/100x140/images/a...   8.54  "
      ]
     },
     "execution_count": 47,
     "metadata": {},
     "output_type": "execute_result"
    }
   ],
   "source": [
    "df_unido[df_unido['Members']==3759013]"
   ]
  }
 ],
 "metadata": {
  "kernelspec": {
   "display_name": "Python 3",
   "language": "python",
   "name": "python3"
  },
  "language_info": {
   "codemirror_mode": {
    "name": "ipython",
    "version": 3
   },
   "file_extension": ".py",
   "mimetype": "text/x-python",
   "name": "python",
   "nbconvert_exporter": "python",
   "pygments_lexer": "ipython3",
   "version": "3.11.9"
  }
 },
 "nbformat": 4,
 "nbformat_minor": 2
}
